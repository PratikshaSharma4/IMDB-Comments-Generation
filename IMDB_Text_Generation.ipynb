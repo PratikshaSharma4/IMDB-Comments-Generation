{
  "nbformat": 4,
  "nbformat_minor": 0,
  "metadata": {
    "colab": {
      "name": "IMDB Text Generation.ipynb",
      "provenance": [],
      "collapsed_sections": []
    },
    "kernelspec": {
      "name": "python3",
      "display_name": "Python 3"
    },
    "accelerator": "GPU"
  },
  "cells": [
    {
      "cell_type": "code",
      "metadata": {
        "id": "53LWaQn70R0D"
      },
      "source": [
        ""
      ],
      "execution_count": null,
      "outputs": []
    },
    {
      "cell_type": "markdown",
      "metadata": {
        "id": "fE-JeFAM0SMl"
      },
      "source": [
        "Importing Libraries"
      ]
    },
    {
      "cell_type": "code",
      "metadata": {
        "id": "ob-sLm2K4xkd"
      },
      "source": [
        "\r\n",
        "from keras.preprocessing.sequence import pad_sequences\r\n",
        "from keras.layers import Embedding, LSTM, Dense, Dropout\r\n",
        "from keras.preprocessing.text import Tokenizer\r\n",
        "from keras.callbacks import EarlyStopping\r\n",
        "from keras.models import Sequential\r\n",
        "import keras.utils as ku \r\n",
        "\r\n",
        "# set seeds for reproducability\r\n",
        "#from tensorflow import set_random_seed\r\n",
        "from numpy.random import seed\r\n",
        "#set_random_seed(2)\r\n",
        "seed(1)\r\n",
        "\r\n",
        "import pandas as pd\r\n",
        "import numpy as np\r\n",
        "\r\n",
        "\r\n",
        "import string, os \r\n",
        "\r\n",
        "import warnings\r\n",
        "warnings.filterwarnings(\"ignore\")\r\n",
        "warnings.simplefilter(action='ignore', category=FutureWarning)"
      ],
      "execution_count": 2,
      "outputs": []
    },
    {
      "cell_type": "markdown",
      "metadata": {
        "id": "QDIy2cuT0drX"
      },
      "source": [
        "#Unzipping the IMDB dataset"
      ]
    },
    {
      "cell_type": "markdown",
      "metadata": {
        "id": "807KTS6V0PJT"
      },
      "source": [
        ""
      ]
    },
    {
      "cell_type": "code",
      "metadata": {
        "colab": {
          "base_uri": "https://localhost:8080/"
        },
        "id": "GDtMSDUnHRaC",
        "outputId": "021fe75b-8065-4d8d-f2e1-b8b18a46d8a6"
      },
      "source": [
        "!unzip '/content/drive/MyDrive/archive (3).zip'"
      ],
      "execution_count": 3,
      "outputs": [
        {
          "output_type": "stream",
          "text": [
            "Archive:  /content/drive/MyDrive/archive (3).zip\n",
            "replace IMDB Dataset.csv? [y]es, [n]o, [A]ll, [N]one, [r]ename: "
          ],
          "name": "stdout"
        }
      ]
    },
    {
      "cell_type": "code",
      "metadata": {
        "colab": {
          "base_uri": "https://localhost:8080/"
        },
        "id": "Kx5AlGcCHtxL",
        "outputId": "088d9f37-c741-48f2-93a2-3971c75e1273"
      },
      "source": [
        "curr_dir = '/content/'\r\n",
        "all_headlines = []\r\n",
        "for filename in os.listdir(curr_dir):\r\n",
        "    if 'IMDB' in filename:\r\n",
        "        article_df = pd.read_csv(curr_dir + filename)\r\n",
        "        all_headlines.extend(list(article_df.review.values))\r\n",
        "        break\r\n",
        "\r\n",
        "all_headlines = [h for h in all_headlines if h != \"Unknown\"]\r\n",
        "len(all_headlines)\r\n"
      ],
      "execution_count": 4,
      "outputs": [
        {
          "output_type": "execute_result",
          "data": {
            "text/plain": [
              "50000"
            ]
          },
          "metadata": {
            "tags": []
          },
          "execution_count": 4
        }
      ]
    },
    {
      "cell_type": "markdown",
      "metadata": {
        "id": "c_ItLUPX0pXB"
      },
      "source": [
        "#I take 880 sentences to train on and slice the length of each sentence upto 200"
      ]
    },
    {
      "cell_type": "code",
      "metadata": {
        "id": "U946oYPxSkX6"
      },
      "source": [
        "all_headlines = all_headlines[:880]"
      ],
      "execution_count": 5,
      "outputs": []
    },
    {
      "cell_type": "code",
      "metadata": {
        "id": "rw-uK6cDfT7C"
      },
      "source": [
        "all_headlines1 = []\r\n",
        "for i in range(0,880):\r\n",
        "  all_headlines[i]= all_headlines[i][0:200]"
      ],
      "execution_count": 9,
      "outputs": []
    },
    {
      "cell_type": "code",
      "metadata": {
        "colab": {
          "base_uri": "https://localhost:8080/"
        },
        "id": "U2eXoERnf3nz",
        "outputId": "d410c857-e05d-4f07-f058-92f6e8968cdd"
      },
      "source": [
        "\r\n",
        "\r\n",
        "all_headlines"
      ],
      "execution_count": 10,
      "outputs": [
        {
          "output_type": "execute_result",
          "data": {
            "text/plain": [
              "[\"One of the other reviewers has mentioned that after watching just 1 Oz episode you'll be hooked. They are right, as this is exactly what happened with me.<br /><br />The first thing that struck me abo\",\n",
              " 'A wonderful little production. <br /><br />The filming technique is very unassuming- very old-time-BBC fashion and gives a comforting, and sometimes discomforting, sense of realism to the entire piece',\n",
              " 'I thought this was a wonderful way to spend time on a too hot summer weekend, sitting in the air conditioned theater and watching a light-hearted comedy. The plot is simplistic, but the dialogue is wi',\n",
              " \"Basically there's a family where a little boy (Jake) thinks there's a zombie in his closet & his parents are fighting all the time.<br /><br />This movie is slower than a soap opera... and suddenly, J\",\n",
              " 'Petter Mattei\\'s \"Love in the Time of Money\" is a visually stunning film to watch. Mr. Mattei offers us a vivid portrait about human relations. This is a movie that seems to be telling us what money, p',\n",
              " \"Probably my all-time favorite movie, a story of selflessness, sacrifice and dedication to a noble cause, but it's not preachy or boring. It just never gets old, despite my having seen it some 15 or mo\",\n",
              " 'I sure would like to see a resurrection of a up dated Seahunt series with the tech they have today it would bring back the kid excitement in me.I grew up on black and white TV and Seahunt with Gunsmok',\n",
              " \"This show was an amazing, fresh & innovative idea in the 70's when it first aired. The first 7 or 8 years were brilliant, but things dropped off after that. By 1990, the show was not really funny anym\",\n",
              " \"Encouraged by the positive comments about this film on here I was looking forward to watching this film. Bad mistake. I've seen 950+ films and this is truly one of the worst of them - it's awful in al\",\n",
              " 'If you like original gut wrenching laughter you will like this movie. If you are young or old then you will love this movie, hell even my mom liked it.<br /><br />Great Camp!!!',\n",
              " 'Phil the Alien is one of those quirky films where the humour is based around the oddness of everything rather than actual punchlines.<br /><br />At first it was very odd and pretty funny but as the mo',\n",
              " 'I saw this movie when I was about 12 when it came out. I recall the scariest scene was the big bird eating men dangling helplessly from parachutes right out of the air. The horror. The horror.<br /><b',\n",
              " \"So im not a big fan of Boll's work but then again not many are. I enjoyed his movie Postal (maybe im the only one). Boll apparently bought the rights to use Far Cry long ago even before the game itsel\",\n",
              " \"The cast played Shakespeare.<br /><br />Shakespeare lost.<br /><br />I appreciate that this is trying to bring Shakespeare to the masses, but why ruin something so good.<br /><br />Is it because 'The \",\n",
              " \"This a fantastic movie of three prisoners who become famous. One of the actors is george clooney and I'm not a fan but this roll is not bad. Another good thing about the movie is the soundtrack (The m\",\n",
              " \"Kind of drawn in by the erotic scenes, only to realize this was one of the most amateurish and unbelievable bits of film I've ever seen. Sort of like a high school film project. What was Rosanna Arque\",\n",
              " 'Some films just simply should not be remade. This is one of them. In and of itself it is not a bad film. But it fails to capture the flavor and the terror of the 1963 film of the same title. Liam Nees',\n",
              " \"This movie made it into one of my top 10 most awful movies. Horrible. <br /><br />There wasn't a continuous minute where there wasn't a fight with one monster or another. There was no chance for any c\",\n",
              " 'I remember this film,it was the first film i had watched at the cinema the picture was dark in places i was very nervous it was back in 74/75 my Dad took me my brother & sister to Newbury cinema in Ne',\n",
              " \"An awful film! It must have been up against some real stinkers to be nominated for the Golden Globe. They've taken the story of the first famous female Renaissance painter and mangled it beyond recogn\",\n",
              " \"After the success of Die Hard and it's sequels it's no surprise really that in the 1990s, a glut of 'Die Hard on a .....' movies cashed in on the wrong guy, wrong place, wrong time concept. That is wh\",\n",
              " 'I had the terrible misfortune of having to view this \"b-movie\" in it\\'s entirety.<br /><br />All I have to say is--- save your time and money!!! This has got to be the worst b-movie of all time, it sho',\n",
              " \"What an absolutely stunning movie, if you have 2.5 hrs to kill, watch it, you won't regret it, it's too much fun! Rajnikanth carries the movie on his shoulders and although there isn't anything more o\",\n",
              " \"First of all, let's get a few things straight here: a) I AM an anime fan- always has been as a matter of fact (I used to watch Speed Racer all the time in Preschool). b) I DO like several B-Movies bec\",\n",
              " 'This was the worst movie I saw at WorldFest and it also received the least amount of applause afterwards! I can only think it is receiving such recognition based on the amount of known actors in the f',\n",
              " \"The Karen Carpenter Story shows a little more about singer Karen Carpenter's complex life. Though it fails in giving accurate facts, and details.<br /><br />Cynthia Gibb (portrays Karen) was not a fin\",\n",
              " '\"The Cell\" is an exotic masterpiece, a dizzying trip into not only the vast mind of a serial killer, but also into one of a very talented director. This is conclusive evidence of what can be achieved ',\n",
              " 'This film tried to be too many things all at once: stinging political satire, Hollywood blockbuster, sappy romantic comedy, family values promo... the list goes on and on. It failed miserably at all o',\n",
              " \"This movie was so frustrating. Everything seemed energetic and I was totally prepared to have a good time. I at least thought I'd be able to stand it. But, I was wrong. First, the weird looping? It wa\",\n",
              " \"'War movie' is a Hollywood genre that has been done and redone so many times that clichéd dialogue, rehashed plot and over-the-top action sequences seem unavoidable for any conflict dealing with large\",\n",
              " 'Taut and organically gripping, Edward Dmytryk\\'s Crossfire is a distinctive suspense thriller, an unlikely \"message\" movie using the look and devices of the noir cycle.<br /><br />Bivouacked in Washing',\n",
              " '\"Ardh Satya\" is one of the finest film ever made in Indian Cinema. Directed by the great director Govind Nihalani, this one is the most successful Hard Hitting Parallel Cinema which also turned out to',\n",
              " 'My first exposure to the Templarios & not a good one. I was excited to find this title among the offerings from Anchor Bay Video, which has brought us other cult classics such as \"Spider Baby\". The pr',\n",
              " 'One of the most significant quotes from the entire film is pronounced halfway through by the protagonist, the mafia middle-man Titta Di Girolamo, a physically non-descript, middle-aged man originally ',\n",
              " 'I watched this film not really expecting much, I got it in a pack of 5 films, all of which were pretty terrible in their own way for under a fiver so what could I expect? and you know what I was right',\n",
              " 'I bought this film at Blockbuster for $3.00, because it sounded interesting (a bit Ranma-esque, with the idea of someone dragging around a skeleton), because there was a cute girl in a mini-skirt on t',\n",
              " 'The plot is about the death of little children. Hopper is the one who has to investigate the killings. During the movie it appears that he has some troubles with his daughter. In the end the serial ki',\n",
              " \"Ever watched a movie that lost the plot? Well, this didn't even really have one to begin with.<br /><br />Where to begin? The achingly tedious scenes of our heroine sitting around the house with actua\",\n",
              " \"Okay, so this series kind of takes the route of 'here we go again!' Week in, week out David Morse's character helps out his ride who is in a bit of a pickle - but what's wrong with that!? David Morse \",\n",
              " 'After sitting through this pile of dung, my husband and I wondered whether it was actually the product of an experiment to see whether a computer program could produce a movie. It was that listless an',\n",
              " 'It had all the clichés of movies of this type and no substance. The plot went nowhere and at the end of the movie I felt like a sucker for watching it. The production was good; however, the script and',\n",
              " 'This movie is based on the book, \"A Many Splendored Thing\" by Han Suyin and tackles issues of race relations between Asians and Whites, a topic that comes from Han\\'s personal experiences as an Eurasia',\n",
              " 'Of all the films I have seen, this one, The Rage, has got to be one of the worst yet. The direction, LOGIC, continuity, changes in plot-script and dialog made me cry out in pain. \"How could ANYONE com',\n",
              " 'I had heard good things about \"States of Grace\" and came in with an open mind. I thought that \"God\\'s Army\" was okay, and I thought that maybe Dutcher had improved and matured as a filmmaker. The film ',\n",
              " \"This movie struck home for me. Being 29, I remember the '80's and my father working in a factory. I figured, if I worked hard too, if I had pride and never gave up I too could have the American Dream,\",\n",
              " \"As a disclaimer, I've seen the movie 5-6 times in the last 15 years, and I only just saw the musical this week. This allowed me to judge the movie without being tainted by what was or wasn't in the mu\",\n",
              " 'Protocol is an implausible movie whose only saving grace is that it stars Goldie Hawn along with a good cast of supporting actors. The story revolves around a ditzy cocktail waitress who becomes famou',\n",
              " 'How this film could be classified as Drama, I have no idea. If I were John Voight and Mary Steenburgen, I would be trying to erase this from my CV. It was as historically accurate as Xena and Hercules',\n",
              " \"Preston Sturgis' THE POWER AND THE GLORY was unseen by the public for nearly twenty or thirty years until the late 1990s when it resurfaced and even showed up on television. In the meantime it had gai\",\n",
              " \"Average (and surprisingly tame) Fulci giallo which means it's still quite bad by normal standards, but redeemed by its solid build-up and some nice touches such as a neat time twist on the issues of v\",\n",
              " 'Return to the 36th Chamber is one of those classic Kung-Fu movies which Shaw produces back in the 70s and 80s, whose genre is equivalent to the spaghetti westerns of Hollywood, and the protagonist Gor',\n",
              " '***SPOILERS*** All too, in real life as well as in the movies, familiar story that happens to many young men who are put in a war zone with a gun, or rifle, in their hands. The case of young and innoc',\n",
              " \"Bela Lugosi appeared in several of these low budget chillers for Monogram Studios in the 1940's and The Corpse Vanishes is one of the better ones.<br /><br />Bela plays a mad scientist who kidnaps you\",\n",
              " 'I cannot believe I enjoyed this as much as I did. The anthology stories were better than par, but the linking story and its surprise ending hooked me. Alot of familiar faces will keep you asking yours',\n",
              " 'The 33 percent of the nations nitwits that still support W. Bush would do well to see this movie, which shows the aftermath of the French revolution and the terror of 1794 as strikingly similar to the',\n",
              " \"As someone has already mentioned on this board, it's very difficult to make a fake documentary. It requires tremendous skill, pacing, patience, directorial 'distance,' a plausible premise, a narrative\",\n",
              " \"The Hills Have Eyes II is what you would expect it to be and nothing more. Of course it's not going to be an Oscar nominated film, it's just pure entertainment which you can just lose yourself in for \",\n",
              " \"I laughed all the way through this rotten movie. It's so unbelievable. A woman leaves her husband after many years of marriage, has a breakdown in front of a real estate office. What happens? The offi\",\n",
              " \"NO SPOILERS!!<br /><br />After Hitchcock's successful first American film, Rebecca based upon Daphne DuMarier's lush novel of gothic romance and intrigue, he returned to some of the more familiar them\",\n",
              " 'I just watched The Dresser this evening, having only seen it once before, about a dozen years ago.<br /><br />It\\'s not a \"big\" movie, and doesn\\'t try to make a big splash, but my God, the brilliance o',\n",
              " 'What happened? What we have here is basically a solid and plausible premise and with a decent and talented cast, but somewhere the movie loses it. Actually, it never really got going. There was a litt',\n",
              " \"I've just watched Fingersmith, and I'm stunned to see the 8/10 average rating for the show.<br /><br />Not only was the plot was difficult to follow, but it seems character development was randomly ap\",\n",
              " \"So let's begin!)))<br /><br />The movie itself is as original as Cronenberg's movies would usually appear...<br /><br />My intention to see it was certainly JJL being one of my favourite actresses. Sh\",\n",
              " \"Besides being boring, the scenes were oppressive and dark. The movie tried to portray some kind of moral, but fell flat with its message. What were the redeeming qualities?? On top of that, I don't th\",\n",
              " 'An unmarried woman named Stella (Bette Midler) gets pregnant by a wealthy man (Stephen Collins). He offers to marry her out of a sense of obligation but she turns him down flat and decides to raise th',\n",
              " 'DON\\'T TORTURE A DUCKLING is one of Fulci\\'s earlier (and honestly, in terms of story-line, better...) films - and although not the typical \"bloodbath\" that Fulci is known for - this is still a very uni',\n",
              " 'Busty beauty Stacie Randall plays PVC clad, bad-ass bitch Alexandra, the faithful acolyte of Faust, an evil entity trapped in hell. Determined to free her master, the malevolent minx breaks into a war',\n",
              " \"I really like Salman Kahn so I was really disappointed when I seen this movie. It didn't have much of a plot and what they did have was not that appealing. Salman however did look good in the movie lo\",\n",
              " \"I'm not sure why the producers needed to trade on the name of a somewhat successful movie franchise because the title suggests that it is a sequel to the first three movies..which it is not. Even thou\",\n",
              " 'This film laboured along with some of the most predictable story lines and shallow characters ever seen. The writer obviously bought the playbook \"How to write a space disaster movie\" and followed it ',\n",
              " 'Caddyshack Two is a good movie by itself but compared to the original it cant stack up. Robert Stack is a horrible replacement for Ted Knight and Jackie Mason, while funny just cant compete with Rodne',\n",
              " \"Honestly - this short film sucks. the dummy used in the necro scene is pretty well made but still phony enough looking to ruin the viewing experience. the Unearthed DVD is crisp and clear and I haven'\",\n",
              " \"I thought that Mukhsin has been wonderfully written. Its not just about entertainment. There's tonnes of subtle messages that i think Yasmin was trying to bring across. And yes, it might be confusing \",\n",
              " \"I am not a golf fan by any means. On May 26 about 10:30 PM the movie started with a scene in the late 1800's. Old movies I like but not golf however, within the first scene a young boy (Harry Vardon) \",\n",
              " \"Upon viewing Tobe Hooper's gem, Crocodile, in 2000, I developed a great interest in the college/crocodile niche of the exploitation/monster genre. I look forward to a wayward producer to follow up wit\",\n",
              " \"It tries to be the epic adventure of the century. And with a cast like Shô Kasugi, Christopher Lee and John-Rhys Davies it really is the perfect B-adventure of all time. It's actually is a pretty fun,\",\n",
              " \"The Last Hard Men finds James Coburn an outlaw doing a long sentence breaking free from a chain gang. Do he and his friends head for the Mexican border from jail and safety. No they don't because Cobu\",\n",
              " 'Maybe it was the title, or the trailer (certainly not the interview on the DVD, which is with the director as he keeps saying \"hi, kids\" into the camera like a buffoon), but I had expectations for Ent',\n",
              " 'The few scenes that actually attempt a depiction of revolutionary struggle resemble a hirsute Boy Scout troop meandering tentatively between swimming holes. When Sharif or, please God, Palance try the',\n",
              " 'This film took me by surprise. I make it a habit of finding out as little as possible about films before attending because trailers and reviews provide spoiler after spoiler. All I knew upon entering ',\n",
              " \"Stephen Hawkings is a genius. He is the king of geniuses. Watching this movie makes me feel dumb. But it's a great movie. Not highly entertaining, but very very intriguing. The movie centers around wh\",\n",
              " 'The story is about a psychic woman, Tory, who returns to her hometown and begins reliving her traumatic childhood past (the death of her childhood friend and abusive father). Tory discovers that her f',\n",
              " \"Oh God, I must have seen this when I was only 11 or twelve, (don't ask how) I may have been young, but I wasn't stupid. Anyone could see that this is a bad movie, nasty, gross, unscary and very silly.\",\n",
              " '\"Fate\" leads Walter Sparrow to come in possession of a mysterious novel that has eerie similarities and connections to his life, all based around the number 23. As the story unfolds in real life and f',\n",
              " 'We brought this film as a joke for a friend, and could of been our worst joke to play. The film is barely watchable, and the acting is dire. The worst child actor ever used and Hasslehoff giving a sub',\n",
              " 'This was probably the worst movie i have ever seen in my life!! It was stupid there was no plot and the special affects were ridiculous!! And i have never seen such bad acting in my life! The only goo',\n",
              " \"This is a typical Steele novel production in that two people who have undergone some sort of tragedy manage to get together despite the odds. I wouldn't call this a spoiler because anyone who has read\",\n",
              " \"Oh noes one of these attack of the Japanese ghost girl movies... i don't even remember how many i've seen. maybe it sells... but not to me. not scary at all. the japanese horror movies are have been v\",\n",
              " \"Nicholas Walker is Paul, the local town Reverand who's married to Martha (Ally Sheedy), but also is a habitual womanizer and decides to fake his own death to run away with his current affair, Veronica\",\n",
              " 'Hollywood movie industry is the laziest one in the entire world. It only needs a single hit to flood theaters with the same old crap re-invented over and over again. Take superheroes for example, for ',\n",
              " '\"Down Periscope\" has been in our library since it first arrived in VHS. Since then, we have acquired the DVD and a digital from Cinema Now.<br /><br />It is a quirky flick that does not go militarily ',\n",
              " \"If you came here, it's because you've already seen this film and were curious what others had to say about it.<br /><br />I feel for you, I *really* do. And I profusely apologize as a Canadian (becaus\",\n",
              " 'Deanna Durbin, Nan Grey and Barbara Read are \"Three Smart Girls\" in this Universal film from 1936, which introduces Deanna Durbin to film audiences. It also stars Ray Milland, Mischa Auer, Charles Win',\n",
              " 'If anyone is wondering why no one makes movies like they used to, with conversation, character and a simple theme of friendship struggling to evolve into something new, better and different, those fol',\n",
              " \"I watched this series out of curiosity,wanting to see if they could possibly and with ALL this modern technology,out do Cecil B. DeMille's classic epic of 1956, starring Charleton Heston,Yul Brenner a\",\n",
              " 'Daniel Day-Lewis is the most versatile actor alive. English aristocratic snob in A Room With a View, passionate Irish thief in In the Name of the Father, an impudent, violent butcher in Gangs of New Y',\n",
              " 'My guess would be this was originally going to be at least two parts, and thus at least a quarter longer, because otherwise how can one explain its confused, abbreviated storyline. I was never complet',\n",
              " \"Well, I like to watch bad horror B-Movies, cause I think it's interesting to see stupidity and unability of creators to shoot seriously good movie. (I always compare this movies to - for example - som\",\n",
              " 'This IS the worst movie I have ever seen, as well as, the worst that I will probably EVER see. I see no need to rehash what all the others have said previously, just be forewarned...<br /><br />This I',\n",
              " 'I have been a Mario fan for as long as I can remember, I have very fond memories of playing Super Mario World as a kid, this game has brought back many of those memories while adding something new. Su',\n",
              " 'This short film that inspired the soon-to-be full length feature - Spatula Madness - is a hilarious piece that contends against similar cartoons yielding multiple writers. The short film stars Edward ',\n",
              " 'Okay, last night, August 18th, 2004, I had the distinct displeasure of meeting Mr. Van Bebble at a showing of the film The Manson Family at the Three Penny in Chicago as part of the Chicago Undergroun',\n",
              " 'I bought this game on an impulse buy from walmart. I am glad I did. It was very entertaining listening to Sean Connery and playing the game. I thought the graphics were the best I have ever seen in a ',\n",
              " \"No, this hilariously horrible 70's made-for-TV horror clinker isn't about a deadly demonically possessed dessert cake. Still, this exceptionally awful, yet undeniably amusing and thus enjoyable cathod\",\n",
              " 'It is easy to tell early in this movie exactly what will happen, and who will die. It is about 4 women and a man who on a vacation. This was made during the end of the ultra Nazi seventies, when blond',\n",
              " 'Marion Davies stars in this remarkable comedy \"Show People\" released by MGM in 1928. Davies plays a hick from Savannah, Georgia, who arrives in Hollywood with her father (Dell Henderson). The jalopy t',\n",
              " 'The performance of every actor and actress (in the film) are excellently NATURAL which is what movie acting should be; and the directing skill is so brilliantly handled on every details that I am neve',\n",
              " 'While Star Trek the Motion Picture was mostly boring, Star Trek The Final Frontier is plain bad. In this terrible sequel, the crew is on shore leave when they get a distress signal from the Federation',\n",
              " 'Despite later claims, this early-talkie melodrama has very little in common with \"Citizen Kane\": It\\'s a biopic of a ruthless but human fictional plutocrat, told in flashback but hopping around time. T',\n",
              " 'This is the best version (so far) that you will see and the most true to the Bronte work. Dalton is a little tough to imagine as Rochester who Jane Eyre declared \"not handsome\". But his acting overcom',\n",
              " 'Apparently, the people that wrote the back of the box did not bother to watch this so-called \"movie.\" They described \"blindingly choreographed intrigue and violence.\" I saw no \"intrigue.\" I instead sa',\n",
              " \"I liked Boyle's performance, but that's about the only positive thing I can say. Everything was overdone to the point of absurdity. Most of the actors spoke like you would expect your 9-year-old nephe\",\n",
              " \"It's terrific when a funny movie doesn't make smile you. What a pity!! This film is very boring and so long. It's simply painfull. The story is staggering without goal and no fun.<br /><br />You feel \",\n",
              " 'So well made, no CGI crap. Has anyone else been on the \"Jumping Crocs\" tour of Darwin\\'s Adelaide River before? Black Water was WAY realistic; Rogue was a bit cringeworthy.<br /><br />Thought the blond',\n",
              " 'The Assignment is an outstanding thriller with several plot twists driven by character, rather than star turns, the need to stage special effects, obligatory romance, and endless car chases. However, ',\n",
              " 'this is one of the finest movies i have ever seen....the stark scenery...the isolation...the ignorant bigoted people hiding behind their religion...a backdrop for some wordliness and sophistication...',\n",
              " 'Set in the 1794, the second year of the French republic formed after the execution of Louis XVI, this film portrays the power struggle between the revolutionary leaders Danton (Gerard Depardieu, at hi',\n",
              " \"Usually I'm a bit of a fan of the bad eighties & early nineties film featuring now has beens...but this film is so incredibly terrible that it was a real endurance test to sit through. Guys dressing u\",\n",
              " 'I have now seen quite a few films by Pedro Almodóvar, but this would have to be the most disappointing so far. This film seemed to lack the zaniness that is usually everywhere in his films, and the st',\n",
              " \"I greatly enjoyed Margaret Atwood's novel 'The Robber Bride', and I was thrilled to see there was a movie version. A woman frames a cop boyfriend for her own murder, and his buddy, an ex-cop journalis\",\n",
              " \"this movie gets a 10 because there is a lot of gore in it.who cares about the plot or the acting.this is an Italian horror movie people so you know you can't expect much from the acting or the plot.ev\",\n",
              " \"Ingrid Bergman, playing dentist Walter Matthau's faithful receptionist who harbors a little crush on her boss, is absolutely wonderful in this film. She handles the witty repartee in the script with a\",\n",
              " '\"A bored television director is introduced to the black arts and astral projection by his girlfriend. Learning the ability to separate his spirit from his body, the man finds a renewed interest in his',\n",
              " 'Ah yes the 1980s , a time of Reaganomics and Sly , Chuck and a host of other action stars hiding in a remote jungle blowing away commies . At the time I couldn`t believe how movies like RAMBO , MISSIN',\n",
              " 'This tale based on two Edgar Allen Poe pieces (\"The Fall of the House of Usher\", \"Dance of Death\" (poem) ) is actually quite creepy from beginning to end. It is similar to some of the old black-and-wh',\n",
              " 'I am so happy and surprised that there is so much interest in this movie! Jack Frost was my introduction into the films produced and distributed by A-pix entertainment, and without exception, everythi',\n",
              " '\"Revolt of the Zombies\" proves that having the same director revamp and recycle an idea doesn\\'t necessarily make lightning strike twice.<br /><br />The Halperin brothers, responsible for the horror cl',\n",
              " \"The complaints are valid, to me the biggest problem is that this soap opera is too aimed for women. I am okay with these night time soaps, like Grey's Anatomy, or Ugly Betty, or West Wing, because the\",\n",
              " \"This movie was one of the best movies that I have seen this year. I didn't see any cameos in the movie, but it is still pretty good. It is similar to Anchorman in the humor department, but I think thi\",\n",
              " \"I remember seeing this film in the mid 80's thought it a well paced and well acted piece. I now work quite often in Berkeley Square and the had to get a copy of DVD to remind myself how little the are\",\n",
              " 'Two hours ago I was watching this brilliant movie which overwhelmed me with its imprisoning photography. It is quite understandable how it won the prize of Best Camera in Cannes 2000. Close ups predom',\n",
              " 'Luckily for Bill Murray this is such a light-weight project since he pretty much has to carry it. Meatballs is the story of low-rent Camp Northstar and how its counselors deal with the campers as well',\n",
              " '\"The Danish Bladerunner\" is boldly stated on the box. Are you kidding me?! This film is a complete drag. When I\\'m thirsty and go for a soda in the kitchen, I usually pause the vcr, so I won\\'t miss any',\n",
              " 'This movie shows a clip of live animal mutilation of an animal getting hacked by a machete and getting its skin ripped off. I know these horrible things happen in the world, but Im watching movies bas',\n",
              " 'Anyone who thinks Kool Moe Dee, Carol Alt, and Corey Feldman comprise a list of good actors must be smoking something I\\'d love to try sometime. Where to begin: lousy soundtrack, hammy acting, \"action\"',\n",
              " 'This film could have been a decent re-make, and gosh knows it tried (or Ms. English tried). Assembling talented actors together with a successful & experienced writer/director should be a formula for ',\n",
              " 'I find it very intriguing that Lee Radziwill, Jackie Kennedy\\'s sister and the cousin of these women, would encourage the Maysles\\' to make \"Big Edie\" and \"Little Edie\" the subject of a film. They certa',\n",
              " \"C'mon guys some previous reviewers have nearly written a novel commenting on this episode. It's just an old 60's TV show ! This episode of Star Trek is notable because of the most serious babe (Yeoman\",\n",
              " 'I just watched this movie on it\\'s premier night out of curiosity and sheer nostalgia. I liked (not loved) \"Mork & Mindy\" as a kid, mostly for Robin William\\'s zany energetic performance. This movie mad',\n",
              " 'I caught this film on AZN on cable. It sounded like it would be a good film, a Japanese \"Green Card\". I can\\'t say I\\'ve ever disliked an Asian film, quite the contrary. Some of the most incredible horr',\n",
              " \"Before I begin, let me get something off my chest: I'm a huge fan of John Eyres' first film PROJECT: SHADOWCHASER. The film, a B-grade cross of both THE TERMINATOR & DIE HARD, may not be the work of a\",\n",
              " \"Ye Lou's film Purple Butterfly pits a secret organization (Purple Butterfly) against the Japanese forces in war torn Shanghai. Ding Hui (Zhang Ziyi) and her ex-lover Hidehiko Itami (Toru Nakamura) fin\",\n",
              " \"After hearing about George Orwell's prophetic masterpiece for all of my life, I'm now 37, but never having read the book, I am totally confused as to what I've just seen.<br /><br />I am very familiar\",\n",
              " 'This cute animated short features two comic icons - Betty Boop and Henry.<br /><br />Henry is the bald, slightly portly boy from the comics who never speaks.<br /><br />Well here he does speak!<br /><',\n",
              " 'I just got back from this free screening, and this \"Osama Witch Project\" is the hands-down worst film I\\'ve seen this year, worse than even \"Catwoman\" - which had the decency to at least pass itself of',\n",
              " 'I remember seeing this film in the theater in 1984 when I was 6 years-old (you do the math). I absolutely loved it. I was Tarzan for the 2 weeks after seeing it (climbing the furniture, jumping around',\n",
              " \"A family is traveling through the mid West. There's widower Ben (Charles Bateman), his girlfriend Nicky (Ahna Capri) and Ben's little daughter K.T. (Geri Reischl). Then hit a town named Hillsboro wher\",\n",
              " \"Francis Ford Coppola wrote and directed this stunningly personal story of a married woman's flight from her husband--and the reality that perhaps the youthful glee and excitement of her younger years \",\n",
              " 'This movie was not very well directed. they almost totally disregarded the book.I guess they were trying 2 save time. the only upside 2 me was that the actor who played finny was cute. Some of the dia',\n",
              " 'The buzz for this film has always been about the fabulous graphics that make Kevin Bacon disappear. Sadly, they stopped there. They should have continued to make the script disappear, then the silly s',\n",
              " 'A young girl becomes a war-time marine\\'s pen-pal, and when he visits at war\\'s end expecting someone a bit more \"available,\" comic complications ensue. All ultimately works out well, naturally, but not',\n",
              " 'This movie is a perfect adaptation of the English Flick Unfaithful. Ashmit plays the role of Richard Gere, Emran that of Olivier and Malikka the perfect cheating wife role of Lane.They have changed th',\n",
              " 'Robert Altman\\'s downbeat, new-fangled western from Edmund Naughton\\'s book \"McCabe\" was overlooked at the time of its release but in the past years has garnered a sterling critical following. Aside fro',\n",
              " 'What seemed at first just another introverted French flick offering no more than baleful sentiment became for me, on second viewing, a genuinely insightful and quite satisfying presentation.<br /><br ',\n",
              " \"I don't think I've ever gave something a 1/10 rating, but this one easily gets the denomination. I find it hard just to sit through one of his jokes. It's not just that the jokes are so bad, but combi\",\n",
              " 'In the standard view, this is a purely awful movie. However, it rates a near perfect score on the unintentional comedy scale. I can think of few actual comedies that make me laugh as hard as I did wat',\n",
              " \"From the film's first shot - Keira Knightley as Elizabeth Bennet wandering reading through a field at dawn, thus invoking all the clichés cinema has developed to address the phenomenon of the strong-m\",\n",
              " 'I\\'ve always enjoyed films that depict life as it is. Life sometimes has boring patches, no real plot, and not necessarily a happy ending. \"A River Runs Through It\" is the perfect name for this film (a',\n",
              " 'The story is very trustworthy and powerful. The technical side of the movie is quite fine.. even the directing of it. The main problem is with the castings, that turned that movie into almost another ',\n",
              " 'This movie was not so much promoted here in Greece,even though it got good actors , great script and rather good photograph was not a so called \"blockbuster\" movie in my Country. The movie itself is v',\n",
              " \"MYSTERY MEN has got to be THE stupidest film I've ever seen, but what a film! I thought it was fabulous, excellent and impressive. It was funny, well-done and nice to see ridiculous Super Heroes for a\",\n",
              " \"You know that mouthwash commercial where the guy has a mouth full of Listerine or whatever it is and he's trying really hard to keep from spitting it up into the sink? That's a great metaphor for this\",\n",
              " \"I can't believe it that was the worst movie i have ever seen in my life. i laughed a couple of times. ( probably because of how stupid it was ) If someone paid me to see that movie again i wouldn't. t\",\n",
              " 'This is one of a rarity of movies, where instead of a bowl of popcorn one should watch it with a bottle of vodka. To be completely honest we are a group of people who actually know the man, Mo Ogrodni',\n",
              " \"Even though I'm quite young, The Beatles are my ABSOLUTELY FAVOURITE band! I never had the chance to hear their music as it was releases but have loved them since I can remember.<br /><br />It's the s\",\n",
              " \"An American Werewolf in London had some funny parts, but this one isn't so good. The computer werewolves are just awful: the perspective is all off, it's like seeing them through a distorting mirror. \",\n",
              " 'Originally I was a Tenacious D fan of their first album and naturally listened to a few tracks off The P.O.D. and was rather disappointed. After watching the movie, my view was changed. The movie is p',\n",
              " 'This is just one more of those hideous films that you find on Lifetime TV which portray the abhorrent behavior of some disgusting woman in an empathetic manner. Along with other such nasty films as \"T',\n",
              " 'The premise of this movie was decent enough, but with sub par acting, it was just bland and dull.<br /><br />SPOILERS The film does not work because of the nature of the death, it was accidental, so a',\n",
              " 'The Lives of the Saints starts off with an atmospheric vision of London as a bustling city of busy, quaint streets and sunshine. I was hoping it would maintain this atmosphere, but it gets bogged down',\n",
              " \"I can't emphasize it enough, do *NOT* get this movie for the kids.<br /><br />For that matter, you'd best spare the adults from it as well.<br /><br />All right, perhaps I'm overexaggerating a little.\",\n",
              " \"Is nothing else on TV? Are you really bored? Well, then watch Phat Beach. However, don't rent it and definitely DO NOT buy it. That would be a big mistake.<br /><br />I watched this on TV and found my\",\n",
              " \"The Elegant Documentary -<br /><br />Don't watch this movie ... if you're an egotistical know-all student of physics. This much less than one percent (miniscule fraction) of the population may find th\",\n",
              " 'In 1993, with the success of the first season of Batman: The Animated Series, Warner Brothers commissioned the team responsible for the hit-show with producing a feature-length movie, originally slate',\n",
              " \"I think this movie was supposed to be shocking. But the only way in which it is indeed shocking is how shocking badly it's been made ...and simply is. It's one-and-a-half hour of torment. Even more so\",\n",
              " 'Why can\\'t a movie be rated a zero? Or even a negative number? Some movies such as \"Plan Nine From Outer Space\" are so bad they\\'re fun to watch. THIS IS NOT ONE. \"The Dungeon of Horror\" might be the wo',\n",
              " \"This movie took me by surprise. The opening credit sequence features nicely done animation. After that, we're plunged into a semi-cheesy production, betraying its low budget. The characters, typical A\",\n",
              " 'Though I\\'d heard that \"Cama de Gato\" was the worst Brazilian movie of the decade, I watched it giving it a chance; after all, first-time director/producer/writer Alexandre Stockler managed to make his',\n",
              " 'An unforgettable masterpiece from the creator of The Secret of Nimh and The Land Before Time, this was a very touching bittersweet cartoon. I remember this very well from my childhood, it was funny an',\n",
              " 'This movie was a failure as a comedy and a film in general. It was a very slow paced movie that seemed to be trying to convey a message, but the message was a cliché, hopeless mess to begin with. This',\n",
              " 'It is so gratifying to see one great piece of art converted into another without distortion or contrivance. I had no guess as to how such an extraordinary piece of literature could be recreated as a f',\n",
              " 'This movie is very violent, yet exciting with original dialog and cool characters. It has one of the most moving stories and is very true to life. The movie start off with action star Leo Fong as a do',\n",
              " \"The day has finally come for me to witness the perpetuation of Azumi's fate as an assassin, fruition of her character and the ultimate attempt to draw me deeper into the world she rampaged through so \",\n",
              " \"This has to be the worst piece of garbage I've seen in a while.<br /><br />Heath Ledger is a heartthrob? He looked deformed. I wish I'd known that he and Naomi Watts are an item in real life because I\",\n",
              " 'A very ordinary made-for-tv product, \"Tyson\" attempts to be a serious biopic while stretching the moments of angst for effect, fast forwarding through the esoterics of the corrupt sport of boxing, and',\n",
              " \"I'm sure deep in the recesses of Jack Blacks mind the character of Nacho Libre is absolutely hilarious but no it isn't. You can tell ol Jacks having a whale of a time hammin it up playing a smarmy, sl\",\n",
              " \"I haven't read the Anne Rice novel that this movie was based on, but who knows, maybe reading the book is cheaper than renting QUEEN OF THE DAMNED and is probably better for your health. It isn't that\",\n",
              " 'While I count myself as a fan of the Babylon 5 television series, the original movie that introduced the series was a weak start. Although many of the elements that would later mature and become much ',\n",
              " \"Leonard Maltin gave this film a dreaded BOMB rating in his 1995 Movie and Video Guide. What film was he looking at? Kid Vengeance or God's Gun are bombs. This film is a delight. It is fantastic. It is\",\n",
              " \"I don't believe there has ever been a more evil or wicked television program to air in the United States as The 700 Club. They are today's equivalent to the Ku Klux Klan of the 20th century. Their hat\",\n",
              " \"If you wish to see Shakespeare's masterpiece in its entirety, I suggest you find this BBC version. Indeed it is overlong at four and a half hours but Jacoby's performance as Hamlet and Patrick Stewart\",\n",
              " \"The Golden Door is the story of a Sicilian family's journey from the Old World (Italy) to the New World (America). Salvatore, a middle-aged man who hopes for a more fruitful life, persuades his family\",\n",
              " 'Nifty little episode played mainly for laughs, but with clever dollop of suspense. Somehow a Martian has snuck aboard a broken-down bus on its way to nowhere, but which passenger is it, (talk about yo',\n",
              " 'I had before a feeling of mislike for all Russian films. But, after seeing this film I haven´t. This is a unique masterpiece made by the best director ever lived in the USSR. He knows the art of film ',\n",
              " \"I watched mask in the 80's and it's currently showing on Fox Kids in the UK (very late at night). I remember thinking that it was kinda cool back in the day and had a couple of the toys too but watchi\",\n",
              " 'Phantasm ....Class. Phantasm II.....awesome. Phantasm III.....erm.....terrible.<br /><br />Even though i would love to stick up for this film, i quite simply can\\'t. The movie seems to have \"sold out\".',\n",
              " 'Ludicrous. Angelic 9-year-old Annakin turns into whiny brat 19-year-old Annakin, who somehow seems appealing to Amidala, 5 years his senior. Now 22-year-old Jedi warrior hero Annakin has a couple of b',\n",
              " 'Scotty (Grant Cramer, who would go on to star in the great B-movie \"Killer Klowns from outer space\") agrees to help three middle-aged guys learn how to \\'dialog\\' the ladies in this bad \\'80\\'s comedy. No',\n",
              " \"If you keep rigid historical perspective out of it, this film is actually quite entertaining. It's got action, adventure and romance, and one of the premiere casting match-ups of the era with Errol Fl\",\n",
              " \"The film quickly gets to a major chase scene with ever increasing destruction. The first really bad thing is the guy hijacking Steven Seagal would have been beaten to pulp by Seagal's driving, but tha\",\n",
              " \"Interesting and short television movie describes some of the machinations surrounding Jay Leno's replacing Carson as host of the Tonight Show. Film is currently very topical given the public drama sur\",\n",
              " 'Any film about WWII made during WWII by a British production company has no latter-day peer in my opinion, respectfully. The confluence of so many things near and dear to my heart are in At Dawn We Di',\n",
              " 'A brilliant horror film. Utterly gruesome and very scary too. The Thing is a remake from John Carpenter, but please, do not let that put you off this film. It is simply brilliant. The start of the fil',\n",
              " 'I absolutely love this film. Everything about it. It almost felt like watching me and my friends on screen. The way this movie was filmed was a pure masterpiece, very original and creative. I related ',\n",
              " \"No one can say I wasn't warned as I have read the reviews (both user & external), but like most of us attracted to horror movies... curiosity got this cat. (Come on, we all scream at the people in the\",\n",
              " \"A new way to enjoy Goldsworthy's work, Rivers and Tides allows fans to see his work in motion. Watching Goldsworthy build his pieces, one develops an appreciation for every stone, leaf, and thorn that\",\n",
              " 'If you liked William Hickey in \"Prizzi\\'s Honor\", he resurrects his character, as Don Anthony in \"Mob Boss\". This is a very weak \"Godfather\" satire with few laughs. Stuart Whitman looks perplexed as to',\n",
              " 'I have seen most, if not all of the Laurel & Hardy classic films. I have always enjoyed there comical stupidly, even after watching it over and over again. This new film attempts to bring back the cla',\n",
              " \"I just started watching The Show around July. I found it by mistake, I was channel surfing during a Vacation. It is a great show, I just wish it wasn't on so late at night. It's on at 12:30 AM. As a w\",\n",
              " 'This film is well cast, often silly and always funny. Lemmon and Matthau work their tag team magic to perfection. Brent Spiner is just a riot as the egotistical tyrant of a cruise director. From the f',\n",
              " \"I have just given a 10 for Thieves Highway, I mention this for two reasons one to prove I'm not a git who only gives bad reviews but 2 because the theme of the film has the same thread namely the fall\",\n",
              " 'This movie was terrible. The plot was terrible and unbelievable. I cannot recommend this movie. Where did this movie come from? This movie was not funny and wasted the talent of some great actors and ',\n",
              " 'I strongly dislike this show. I mean, like, basically everyone at that school is perfect, and rich, and I doubt a boarding school would look as cool as that. And why do they suddenly allow girls into ',\n",
              " \"Normally I don't like series at all. They're all to predictable and they tend to become boring and dull very fast.<br /><br />These series however, are well played, the story follows through all episo\",\n",
              " 'holy Sh*t this was god awful. i sat in the theater for for an hour and ten minutes and i thought i was going to gouge out my eyes much in the manor Oedipus Rex. dear god. this movie deserves no more c',\n",
              " 'This movie is without a doubt a perfect 10/10.. for all you people out there who are rating this film low grades because it has no \"good plot\" or anything like that, thats ridiculous, saying that a Ja',\n",
              " \"I saw this at the London Film Festival last night, apparently the shorter version. James McNally's summary of the content of the film is very good. Nossiter very deftly blends his investigation of the\",\n",
              " \"I can't believe this movie managed to get such a relatively high rating of 6! It is barely watchable and unbelievably boring, certainly one of the worst films I have seen in a long, long time.<br /><b\",\n",
              " 'This movie really woke me up, like it wakes up the main male character of this bravely different movie from his life slumber.<br /><br />This guy John (Ben Chaplin) leads his mediocre safe life of a b',\n",
              " 'Ed Wood rides again. The fact that this movie was made should give any young<br /><br />aspiring film maker hope. Any screenplay you might have thought of using to<br /><br />line a litterbox or a bir',\n",
              " 'This sports a nice, deep cast but for a thriller you better deliver more than name actors and talk. The first third of this movie was nothing but talk, and more talk. Most of that was a bunch of women',\n",
              " \"I think this movie has got it all. It has really cool music that I can never get out of my head. It has cool looking characters. IS REALLY funny(you know, the kind that you'll crack up on the ground a\",\n",
              " 'Howard (Kevin Kline) teaches English at the high school in a small Indiana city. He is finally getting married to Emily (Joan Cusack), much to his parents delight. The town is abuzz, too, because one ',\n",
              " 'When the opening shot is U.S. Marines seriously disrespecting the U.S. flag, a movie has a tough road ahead, but unfortunately it was downhill from there. There is a military adviser credited, who is ',\n",
              " 'We usually think of the British as the experts at rendering great adventure from the Imperial age, with the likes of The Four Feathers (1939) and Zulu, simply because the Imperial age was, for the mos',\n",
              " \"I had been looking forward to seeing Dreamgirls for quite a while...what with all it's raving reviews, nominations and media attention. And I must say, the first quarter of the movie was good! It real\",\n",
              " \"One of Starewicz's longest and strangest short films follows a toy dog in search of an orange after becoming animated by the tear of the mother of a girl who longs for an orange. The dog comes upon an\",\n",
              " \"Nice character development in a pretty cool milieu. Being a male, I'm probably not qualified to totally understand it, but they do a nice job of establishing the restrictive Victorian environment from\",\n",
              " 'Prussic gas, a murderer donning a red clansman suit and hood wielding a white whip, and the murders of college school girls at the hands of paid convicts enlisted by a mysterious mastermind who keeps ',\n",
              " 'I was very lucky to see this film as part of the Melbourne International Film Festival 2005 only a few days ago. I must admit that I am very partial to movies that focus on human relations and especia',\n",
              " \"This movie is really bad. Most of it looks like it was filmed either in a park or a basement. There's a giant spider but all we see of it is one leg. There are some worms that live in a cave that are \",\n",
              " \"I think this is one hell of a movie...........We can see Steven fighting around with his martial art stuff again and like in all Segal movies there's a message in it, without the message it would be o\",\n",
              " 'I saw this movie in the theater, and was thoroughly impressed by it. Then again, that was when Claire Danes was a good actress, not the foolish, arrogant, Hollywood-ized bitch she is today. Anyway, th',\n",
              " \"I've seen this film literally over 100 times...it's absolutely jam-packed with entertainment!!! Powers Boothe gives a stellar performance. As a fan of actors such as William Shatner (Impulse, 1974) an\",\n",
              " 'The three main characters are all hopeless, and yet you only feel sorry for one of them: Ernesto, hopelessly devoted to Mercedes. This was part of the frustration: screaming at Mercedes to get a clue ',\n",
              " 'Reese Witherspoon first outing on the big screen was a memorable one. She appears like a fresh scrubbed face \"tween\" slight and stringy, but undeniably Reese.<br /><br />I have always liked her as an ',\n",
              " 'This game ranks above all so far. I had the honor of playing mine on PS2 so the graphics were really good. The voice acting was above standard. The difficulty level is just right. Wesker has to be the',\n",
              " 'This movie is not worth anything. I mean, if you want to watch this kind of stuff, flip to Hollywood movies! This totally is a disgrace to the Bollywood name. Neal N Nikki seriously sucked! Never watc',\n",
              " \"This is yet another western about a greedy cattle baron looking to push out small ranchers and farmers. It's certainly all been done before and since. But The Violent Men is something special.<br /><b\",\n",
              " \"Apparently, The Mutilation Man is about a guy who wanders the land performing shows of self-mutilation as a way of coping with his abusive childhood. I use the word 'apparently' because without listen\",\n",
              " 'This movie was absolutely pathetic. A pitiful screenplay and lack of any story just left me watching three losers drool over bikini babes. At times I felt like I was watching an episode of Beavis and ',\n",
              " 'I Feel the Niiiiiight Heat! I feel your HEEAAAAAAAAAART-beat! Something ain\\'t right!\" Theme song written by B.J. Cook from Skylark- David Foster\\'s old band and wife. She also wrote the memorable theme',\n",
              " \"This movie fails miserably on every level. I have an idea, let's take everyone involved in this movie and ship them into a hot zone in the middle east. Maybe if we're lucky they'll all be shot and kil\",\n",
              " \"Yes i'll say before i start commenting, this movie is incredibly underrated.<br /><br />Sharon Stone is great in her role of Catherine Trammell as is Morrissey as Dr glass. He is an analyst sent in to\",\n",
              " \"Based on a Edgar Rice Burroughs novel, AT THE EARTH'S CORE provides little more than means to escape and give your brain a rest. A Victorian scientist Dr. Abner Perry(Peter Cushing)invents a giant bur\",\n",
              " 'I have seen this film at least 100 times and I am still excited by it, the acting is perfect and the romance between Joe and Jean keeps me on the edge of my seat, plus I still think Bryan Brown is the',\n",
              " 'This show makes absolutely no sense. Every week, two ladies go to an estate to do some gardening, and every week without fail, they somehow stumble upon a murder. Because everyone who owns a big house',\n",
              " 'This movie was so bad it was funny! For awhile there I thought I was actually watching a parody of a bad movie (a la \"For Your Consideration\"). The \"cliffhanger\" scene at the end had me laughing until',\n",
              " \"Meryl Streep is such a genius. Well, at least as an actress. I know she's been made fun of for doing a lot of roles with accents, but she nails the accent every time. Her performance as Lindy Chamberl\",\n",
              " \"'Airport 4' is basically a slopped together mess for Universal Studios to try and work a new twist - the Concorde supersonic airliner - into their 'disaster-in-the-sky' formula.<br /><br />Bogged down\",\n",
              " 'Supposedly a \"social commentary\" on racism and prison conditions in the rural South of the 1970\\'s, \"Nightmare\" is full of bad Southern stereotypes, complete with phoney accents. Not only would it be o',\n",
              " 'OK, I bought this film from Woolworths for my friend for a joke present on his birthday, because the front cover had a sexual innuendo in it.<br /><br />But we decided it to watch it anyway. Just for ',\n",
              " \"Insignificant and low-brained (haha!) 80's horror like there are thirteen in a dozen, yet it can be considered amusing if you watch it in the right state of mind. The special effects are tacky, the ac\",\n",
              " 'Does anyone remember the alternative comedy show THE COMIC STRIP PRESENTS . One edition featured Charles Bronson ( Robbie Coltrane ) being interviewed about his new movie GLC :<br /><br />\" It\\'s about',\n",
              " 'Well, here\\'s another terrific example of awkward 70\\'s film-making! The rudimentary premise of \"What\\'s the matter with Helen?\" is quite shocking and disturbing, but it\\'s presented in such a stylish and',\n",
              " 'Resnais, wow! The genius who brought us Hiroshima Mon Amour takes on the challenge of making a 1930s French musical in vibrant colour. The opening voice-over with old, embellished inter-titles was a n',\n",
              " \"I saw this movie in the middle of the night, when I was flipping through the channels and there was nothing else on to watch. It's one of those films where you stop to see what it is - just for a mome\",\n",
              " 'This movie takes the plot behind the sci-fi flick \"Doppelganger\" (an astronaut from our Earth crashing on a \\'counter-Earth\\' on the opposite side of the Sun, and the Cold War totalitarian vibes on that',\n",
              " \"Black comedy isn't always an easy sell. Every now and then you get a black comedy that is hugely successful, like Fargo, for example. But usually they don't often find big audiences. People seem to ei\",\n",
              " 'Back in 1994, I had a really lengthy vacation around the Fourth of July - something like 17 days off in a row what with two weeks paid vacation, weekends and the holiday itself. I stayed in town durin',\n",
              " \"Paul Verhoeven's predecessor to his breakout hit 'Basic Instinct' is a stylish and shocking neo-noir thriller. Verhoeven has become known for making somewhat sleazy trash films, both in his native Hol\",\n",
              " \"I accept that most 50's horror aren't scary by today's standards, but what the hell is this? When you see a title like this you expect to see blood and a blood thirsty beast. Instead we get no blood a\",\n",
              " \"Demon Wind is about as much fun as breaking your legs. It is definitely an awful example of a film. So awful in fact that I don't even consider it a movie. I describe it more as a thing ... a monstrou\",\n",
              " 'There is a difference between a \"film,\" and a \"movie.\" A film, regardless of quality, is ready for public consumption. A movie is what a group of friends gets together to make over the course of a wee',\n",
              " 'please re-watch all 3 series and do not go see this movie, the trailer is completely misleading and the 3 weakest characters in the series stretch a badly thought out 25min TV episode into the most pa',\n",
              " \"Finally! An Iranian film that is not made by Majidi, Kiarostami or the Makhmalbafs. This is a non-documentary, an entertaining black comedy with subversive young girls subtly kicking the 'system' in i\",\n",
              " 'Sometimes you just have to have patients when watching indie horror. If you can just toe-tap your way through the slow-paced early scenes, sometimes a real gem will present itself... This (unfortunate',\n",
              " \"Tainted look at kibbutz life<br /><br />This film is less a cultural story about a boy's life in a kibbutz, but the deliberate demonization of kibbutz life in general. In the first two minutes of the \",\n",
              " '(When will I ever learn-?) The ecstatic reviewer on NPR made me think this turkey was another Citizen Kane. Please allow me to vent my spleen...<br /><br />I will admit: the setting, presumably New Yo',\n",
              " '\"Lost\", \"24\", \"Carnivale\", \"Desperate Housewifes\"...the list goes on and on. These, and a bunch of other high-quality, shows proves that we\\'re in the middle of a golden age in television history. \"Los',\n",
              " 'Clifton Webb is one of my favorites. However, Mister Scoutmaster is not one of his best. His patented curmudgeon role seems forced and even unpleasant rather than funny. The film itself is overflowing',\n",
              " 'This is a must-see documentary movie for anyone who fears that modern youth has lost its taste for real-life adventure and its sense of morality. Darius Goes West is an amazing roller-coaster of a sto',\n",
              " 'The message of a world on the brink of war is disregarded by the masses; the mythical city of Everytown in 1940 represents England in general, but it could just as well stand for any nation of the wor',\n",
              " \"Fulci... Does this man brings one of the goriest and weirdest movies ever made? Answer: yes! Cat in the Brain, also known as Nightmare Concert is Fulci's last masterpiece. Yes it is, no matter what so\",\n",
              " \"What an incomprehensible mess of a movie. Something about a cop who extracts bullets from himself after he gets shot and keeps them in a glass jar in his bathroom (and from the size of the jar he's be\",\n",
              " 'I love to watch this movie a lot because of all the scary scenes about the raptors. I like raptors because they are scary. My favorite parts are the ones where the raptor looks behind the pillar becau',\n",
              " 'WARNING: REVIEW CONTAINS MILD SPOILERS<br /><br />A couple of years back I managed to see the first five films in this franchise, and was planning to do an overview of the whole Elm St. series. Howeve',\n",
              " \"Some comments here on IMDb have likened Dog Bite Dog to the classic Cat III films of the 90s, but although it is undoubtedly brutal, violent and very downbeat, this film from Pou-Soi Cheang isn't real\",\n",
              " \"I watched this movie for the hot guy--and even he sucked! He was the worst one--well, okay, I have to give props to that freaky police officer rapist guy too, he was even worse. The guy wasn't that cu\",\n",
              " 'Absolute must see documentary for anyone interested in getting to the bottom of this story. Told with unflinching eye and with gripping style. If you think conspiracy theories are for paranoid disturb',\n",
              " 'I have decided to not believe what famous movie critics say. Even though this movie did not get the best comments, this movie made my day. It got me thinking. What a false world this is.<br /><br />Wh',\n",
              " 'After a very scary, crude opening which gives you that creepy \"Chainsaw massacre\"-feeling, everything falls apart.<br /><br />SPOILER ALERT: As soon as the two FBI-officers start jabbing, you know the',\n",
              " \"I can't say much about this film. I think it speaks for itself (as do the current ratings on here). I rented this about two years ago and I totally regretted it. I even /tried/ to like it by watching \",\n",
              " \"I am not so old that I can't remember laughing at Bobcat Goldthwait a couple times. But some where in all his years of drug abuse he lost his sense of humor as well as his brain cells.<br /><br />From\",\n",
              " 'In New Orleans, an illegal immigrant feels sick and leaves a poker game while winning the smalltime criminal Blackie (Walter Jack Palance). He is chased by Blackie and his men Raymond Fitch (Zero Most',\n",
              " 'The box is why I originally picked up this movie and the back is why I rented it. But I soon learned that I had been duped. I had thought this movie would be something like a Road Trip/Eurotrip/Americ',\n",
              " 'There have been many documentaries that I have seen in which it appeared that the law was on the wrong side of the fence - The Thin Blue Line and Paradise Lost come to mind first and foremost. But thi',\n",
              " \"I saw this movie last night and thought it was decent. It has it's moments I guess you would say. Some of the scenes with the special ops forces were cool, and some of the location shots were very aut\",\n",
              " 'Yes, I call this a perfect movie. Not one boring second, a fantastic cast of mostly little known actresses and actors, a great array of characters who are all well defined and who all have understanda',\n",
              " 'I would like to know if anyone know how I can get a copy of the movie, \"That\\'s the way of the World\". It\\'s been about 30 years since I\\'ve seen this movie, and I would like to see it again. Earth Wind ',\n",
              " 'I saw the movie \"Hoot\" and then I immediately decided to comment it. The truth is that NATURE needs protection from us because we are the dominant specie of this planet. Some people think that if they',\n",
              " 'I had some reservations about this movie, I figured it would be the usual bill of fare --- a formula movie about Christmas. Being in the middle of a heat wave in late June, we decided to give it a sho',\n",
              " 'When I first saw this film around 6 months ago, I considered it interesting, but little more. But it stuck with me. That interest grew and grew, and I wondered whether my initial boredom and response ',\n",
              " 'Focus is another great movie starring William H. Macy. I first discovered Macy in Fargo and I\\'ve seen a few of his films and he hasn\\'t yet deceived me. Macy is the archetypal \"nice guy with something ',\n",
              " 'In \"Brave New Girl,\" Holly comes from a small town in Texas, sings \"The Yellow Rose of Texas\" at a local competition, and gets admitted to a prestigious arts college in Philadelphia. From there the mo',\n",
              " 'Despite a totally misleading advertising campaign, this flick turns out to be an irritatingly clichéd, sub-par haunted house flick with a totally implausible ending. Clue #1 for all considering seeing',\n",
              " \"This movie sucks ass. Something about a heatwave in some European country, complete trash. There's nothing going for this movie whatsoever. maybe 30 seconds of sex but that's it. There is a very annoy\",\n",
              " \"I was looking forward to The Guardian, but when I walked into the theater I wasn't really in the mood for it at that particular time. It's kind of like the Olive Garden - I like it, but I have to be i\",\n",
              " \"Going into see Seven Pounds i wasn't clearly sure what to think because the previews left to much open to grasp what the movie was really about. So within the first 20 min or so you are completely los\",\n",
              " \"I saw Brother's Shadow at the Tribeca Film Festival and loved it! Judd Hirsch and Scott Cohen are great as father and son. The film follows Scott Cohen from parole in Alaska back to his family in Broo\",\n",
              " '\"Mararía\" really disappointed me. I can\\'t consider it as a bad movie, but the development just seemed too rushed and non-believable for it to evoke any emotions. Dr. Fermín displays some unprecedented',\n",
              " 'Serum is about a crazy doctor that finds a serum that is supposed to cure all diseases through the power of the mind. Instead it creates some kind of monster that needs to eat human flesh and brains. ',\n",
              " 'witty. funny. intelligent. awesome. i was flipping channels late one night years ago. came across this and a wildfire started. i was staying up late every night and taping it for everyone i know. a fe',\n",
              " \"It's a unique film, as it gives us our only chance to see the young Noel Coward in all his ironic glory. Because he seems so reserved & detached he's perfect for the role of an unloved cad who matter-\",\n",
              " 'This is definitely a \"must see\" film. The excellent Director Alain Chabat (also acting as Ceasar) has managed to capture the very essence of the \"Adventures of Astérix\" (the French comic books it\\'s ba',\n",
              " 'I thought this movie was stunning, with completely outstanding performances by Valentina Cervi (Artemisia Gentileschi).<br /><br />Cervi portrays Artemisia so beautifully, with tentative yet confidant',\n",
              " 'I consider myself a bit of a connoisseur of boxing movies and as such there is only one thing that prevents me from calling \"Gentleman Jim\" the best boxing movie ever made. That is the Robert Wise/Pau',\n",
              " 'That this movie has been stapled to the wall of a chapel as proof that God is truly dead. Am I the only one that really saw (rather sleptwalked) through this \"film\"? This is the only movie I\\'ve ever s',\n",
              " \"Well, there's no real plot to speak of, it's just an excuse to show some scenes of extreme violence and gratuitous sex (which can sometimes be fun, too, but it's not in this case). What else can I say\",\n",
              " \"This is the best film the Derek couple has ever made and if you think this is a recommendation then you haven't seen any of the others. There are the usual ingredients: it is just as poorly acted as t\",\n",
              " 'Some people drift through life, moving from one thing or one person to the next without batting an eye; others latch on to a cause, another person or a principle and remain adamant, committed to whate',\n",
              " \"Ho-hum. An inventor's(Horst Buchholz)deadly biological weapon is in danger of falling into the wrong hands. Unknowingly his son(Luke Perry)has been working on the antedote all along. Enter CIA agent O\",\n",
              " 'Note to self. Never ever ever again watch a serious movie with Charlie Sheen in it. Great comedian, horrible seal. This movie makes Navy SEALS look like a reckless group of rangers when, in fact, they',\n",
              " \"This movie is stupid. There's no getting around it. But so is Dumb and Dumber. Mind you, Dumb and Dumber is significantly more funny than this. However, I for one love seeing stupid movies (Tail Sting\",\n",
              " \"I was looking forward to this so much, being a big fan of the book. However, when it came out I remember thinking it was one of the biggest wastes of money and time I've ever spent at the cinema.<br /\",\n",
              " 'as always this is an inaccurate picture of the homeless. TV told a lot of lies about panhandlers in the early 1990s and made everyone look bad, and claimed we all made over $100 a day when $20-40 a da',\n",
              " \"i really in enjoyed watching this movie. like most of the people that watched it. i wasn't sure that i was getting. Whoopi Goldberg is a very funny comedian and she has done a lot of funny movies; i.e\",\n",
              " 'Having been a Marine, I can tell you that the D.I. is as accurate a portrayal to date depicting Marine Corp boot camp and how boys are turned into men. Jack Webb is excellent as Sgt.Jim Moore, a tough',\n",
              " 'Every high praise word fell way short before the height of this movie. This movie is the true example of how a psychological horror movie should be.<br /><br />The plot seems to be a bit confusing at ',\n",
              " 'Ken Burns\\' \"Baseball\" is a decent documentary... it presents a clear origin of the game, a great depiction of baseball\\'s early years and heroes. There\\'s plenty in this movie for any baseball fan... th',\n",
              " '\"Quitting\" may be as much about exiting a pre-ordained identity as about drug withdrawal. As a rural guy coming to Beijing, class and success must have struck this young artist face on as an appeal to',\n",
              " \"I have watched this movie countless times, and never failed to be charmed by it's homely simplicity, sincerity and goodness. Great characterizations by all of the cast, and the lovely little steam tra\",\n",
              " 'If only I had read the review by Alex Sander (sic) on here rather than looking at the rating of over 6 from a select choice of the ignorant viewing public I would not have seen this desecration. Alien',\n",
              " 'Even though I saw this film when I was very young, I already knew the story of Wild the Thief-Taker and Shepherd who famously escaped from Newgate prison.<br /><br />Apart from the liberty taken right',\n",
              " 'Gone is the wonderful campiness of the original. In place is a c-grade action no-brainer, wich is not all bad, but pales in comparison to the original. All the meaningless sex and violence is gone, an',\n",
              " 'Although most Americans have little knowledge of his work other than Star Wars, Alec Guinness produced an amazing body of work--particularly in the 1940s-1950s--ranging from dramas to quirky comedies.',\n",
              " 'Victor McLaglen\\'s performance is one of the finest in film history.<br /><br />I think we can all feel for \"Gypo\" because we\\'ve all struggled with what is right and what isn\\'t and been wrong. This was',\n",
              " 'How do you take a cast of experienced, well-known actors, and put together such a stupid movie? Nimrod Antel has the answer: Armored. Six co-workers at an armored car business decide to steal a large ',\n",
              " \"The sexploitation movie era of the late sixties and early seventies began with the allowance of gratuitous nudity in mainstream films and ended with the legalization of hardcore porn. It's peak years \",\n",
              " \"What a surprisingly good movie this one turned out to be. This is the type of film that I've been looking for ages. Particularly important for me was the fantastic-looking Chicago, which I still keep \",\n",
              " \"I did not expect much from this film, but boy-o-boy, I did not expect the movie to be this bad. Chris Rock is not showing a good act here, you can't get the feeling that his caracter is real, I think \",\n",
              " 'I cant believe there are people out there that did not like this movie! I thought it was the funniest movie i had ever seen. It my have been b/c i am Mel Brooks biggest fan... I know almost all the wo',\n",
              " 'Flynn, known mostly for his swashbuckling roles (and his bedroom antics!) takes a different tack with this film and it works beautifully. Playing real-life boxing champ Jim Corbett, Flynn turns on the',\n",
              " \"Often laugh out loud funny play on sex, family, and the classes in Beverly Hills milks more laughs out of the zip code than it's seen since the days of Granny and Jed Clampett. Plot centers on two cha\",\n",
              " 'Thought provoking, humbling depiction of the human tragedies of war. A small, but altruistic view of one family\\'s interactions with the enemy during the civil war in Kentucky. This movie lessens the \"',\n",
              " \"Or anyone else have noticed the fact that first bunch of episodes are inspired too much by 90's flicks?<br /><br />I mean seriously wife who is trying get someone else to murder his rich husband so sh\",\n",
              " 'elvira mistress of the dark is one of my fav movies, it has every thing you would want in a film, like great one liners, sexy star and a Outrageous story! if you have not seen it, you are missing out ',\n",
              " 'I saw this movie on the Hallmark Channel and thought it was wonderful, especially since it was based on a true man. Pierce Brosnan was very good as the loner English man who took on the persona of the',\n",
              " 'Despite having an absolutely horrid script (more about that later), this film is still vaguely watchable just because it stars two excellent actors, Barbara Stanwyck and Henry Fonda. Aside from one or',\n",
              " 'I find the critique of many IMDb users a little harsh and in many cases find that they crit the movie from a very professional viewpoint and not that of the guy on the street that wants to sit and wat',\n",
              " \"I was debating between this movie and 2012 but chose Inglourious Basterds due to it's amazingly high IMDb rating. I must say now, what a disappointment. I expected a certain amount of gratuitous viole\",\n",
              " 'Bend it like Beckham is packed with intriguing scenes yet has an overall predictable stroy line. It is about a girl called Jess who is trying to achieve her life long dream to become a famous soccer p',\n",
              " 'Directed by Diane Keaton and adapted from a book by Franz Lidz. A young mother Selma Lidz(Andie MacDowell)is battling a very serious illness and her self proclaimed inventor husband Sid(John Tururro)i',\n",
              " \"Perhaps the most gripping and intelligent of crooked cop movies is Otto Preminger's 'Where the Sidewalks Ends,' from a really excellent script by Ben Hecht based on the novel 'Night Cry' by Frank Rose\",\n",
              " 'In sum, overlong and filled with more subplots than swiss cheese has holes! The director and co-writer says he wanted to mix genres - in this case drama and comedy. Well, at least here, these two mix ',\n",
              " 'Incomprehensibly dreadful mishmash of the probably most notorious of all Roman emperors who went insane, leaving infamous party orgies and ruthless killings in his path... I know there are several ver',\n",
              " \"Did anyone edit this film? Or was it only the DVD release that had huge thirty second gaps between scenes? It's OK though, I fell asleep watching it the first time. Then I fell asleep the second time \",\n",
              " 'Riding high on the success of \"Rebel Without a Cause\", came a tidal wave of \\'teen\\' movies. Arguably this is one of the best. A very young McArthur excels here as the not really too troubled teen. The ',\n",
              " 'Most of the comments on this movie are positive so I thought I would try and redress the balance. I came out of this movie wondering what was going on. I now know and still consider it to be a poor mo',\n",
              " 'Pepe le Moko, played by Charles Boyer, is some sort of international criminal mastermind wanted in countries throughout Europe, and to stay free he holes himself up in the Casbah, a mysterious part of',\n",
              " \"Man with the Screaming Brain certainly isn't a perfect movie, but I'm pretty sure it was never meant to be anything more than a star vehicle for Bruce Campbell, meaning it works as kind of a summary o\",\n",
              " \"You should never ever even consider to watch this movie! It is absolutely awful! This isn't an overstatement!! It is so unbelievable and exaggerated, it gets boring. It is just a movie where they have\",\n",
              " 'Tell the truth I’m a bit stun to see all these positive review by so many people, which is also the main reason why I actually decide to see this movie. And after having seen it, I was really a disapp',\n",
              " 'This film held my interest enough to watch it several times. The plot has holes, but the lead performers make it work.<br /><br />Catherine Mary Stewart (Julia Kerbridge), does a great job as a woman ',\n",
              " 'Like the previous poster, I am from northern Vermont, and I was inclined to like this film. However, not since \"Red Zone Cuba\" have I seen such a confusing plot. The things the people to bootleg make ',\n",
              " \"MAY CONTAIN SPOILERS. This movie was the worst movie ever. I couldn't even watch it all it was so bad. This film is actually worse than scarecrow slayer which is saying a whole lot. This was worse tha\",\n",
              " 'Watched this last night and was bowled over by the heartfelt story line, the excellent character development, and the good karmic vibe emanating from the acting and movie as a whole.<br /><br />Withou',\n",
              " 'Recap: Something mysteriously dense that transmits radio signals is discovered in the ice of Antarctica. The mysterious block is dug out and brought to a research station on Antarctica. Julian Rome, a',\n",
              " 'This movie features Charlie Spradling dancing in a strip club. Beyond that, it features a truly bad script with dull, unrealistic dialogue. That it got as many positive votes suggests some people may ',\n",
              " \"Had I checked IMDb BEFORE renting this DVD from Netflix, I'd have a couple of hours of my life back. I'm frankly suspicious when I see that a film's director also wrote it. In this case, according to \",\n",
              " 'The endless bounds of our inhumanity to our own kind never fails to stun me. This truly astonishing story of a horrifically abused and largely unheard-of population is compelling, well-documented and ',\n",
              " \"This flick is so bad its beyond belief.Even for an independent low budget film...it just, well, sucks.I can't even believe even Troma would put out such crap.I have been a fan of some Troma flicks for\",\n",
              " 'This is a very memorable spaghetti western. It has a great storyline, interesting characters, and some very good acting, especially from Rosalba Neri. Her role as the evil villainess in this film is t',\n",
              " 'The plot: Michael Linnett Connors has done everything in films but direct, and is looking for his 1st big chance. He discovers Molly in a play and at once knows she will be a big film star. He signs h',\n",
              " 'It got to be a running joke around Bonanza about how fatal it was for any women to get involved with any Cartwright men. After all Ben Cartwright was three times a widower with a son by each marriage.',\n",
              " 'Years ago, when DARLING LILI played on TV, it was always the pan and scan version, which I hated and decided to wait and see the film in its proper widescreen format. So when I saw an inexpensive DVD ',\n",
              " 'This series, made for Televisión Española (TVE) is basically a series of chapters in the life of an ordinary family in 1968, primarily as seen through the eyes of the youngest son.<br /><br />Based on',\n",
              " \"I want the 99 minutes of my life back that was wasted on this pathetic excuse for a movie. The acting was horrific! I used to be a fan of Cameron Diaz and Vincent D'Onofrio. I will never look at them \",\n",
              " 'One of my favorite movies which has been overlooked by too many movie goers, an observation which mystifies me. Not only directed by the acclaimed Ang Lee,it had many young actors who were to become m',\n",
              " \"It's nice to see a romantic comedy that does not have the prissy man lead, this has solid acting from both male leads and also from the female lead and although the story is a little long and a little\",\n",
              " 'Of all the movies of the seventies, none captured to truest essence of the good versus evil battle as did the Sentinel. I mean, yes, there were movies like the Exorcist, and other ones; but none of th',\n",
              " 'This is apparently the second remake of this film, having been filmed before in 1911 and 1918. And, in so many ways it reminds me of the later film, A YANK AT OXFORD. Both films concern a conceited bl',\n",
              " \"This movie illustrates like no other the state of the Australian film industry and everything that's holding it back.<br /><br />Awesome talent, outstanding performances (particularly by Victoria Hill\",\n",
              " \"Owen loves his Mamma...only he'd love her better six feet under in this dark, laugh-out-loud comedy that both stars and is directed by Danny DeVito, with admirable assists from Billy Crystal and Anne \",\n",
              " 'A Compelling Thriller!!, 10 December 2005 Author:littlehammer16787 from United States<br /><br />Just Cause<br /><br />Starring:Sean Connery,Laurence Fishburne, and Blair Underwood.<br /><br />A liber',\n",
              " \"Filmfour are going to have to do a lot better than this little snot of a film if they're going to get the right sort of reputation for themselves.<br /><br />This film is set in Glasgow (although only\",\n",
              " \"Doctor Mordrid is one of those rare films that is completely under the radar, but is totally worthwhile. It really reminds me of the old serials from the 30s and 40s. Which is why I'd have loved to se\",\n",
              " \"A truly muddled incomprehensible mess. Most things in the film look more or less like 1987, but then there are futuristic things just thrown in, like the policeman's ray gun. And that car! The directo\",\n",
              " \"It doesn't happen very often, but occasionally one man can make a difference -- a big difference.<br /><br />George Crile's 2003 best seller, CHARLIE WILSON'S WAR, is a fascinating and eye-opening acc\",\n",
              " \"I'm a big fan of surrealist art, but this film by Bunuel (with some ideas from Dali) left me cold. Bunuel had a life-long grudge against the Catholic church and delighted in trying to offend Catholics\",\n",
              " 'This ludicrous film offers the standard 1970\\'s \"hippie mentality\" in a nut shell and bores us in the process. Its an attempt to rationalize absurd marriages of young, innocent women with old age sex f',\n",
              " 'This film was pretty good. I am not too big a fan of baseball, but this is a movie that was made to help understand the meaning of love, determination, heart, etc.<br /><br />Danny Glover, Joseph Gord',\n",
              " 'For his first ever debut this film has some riveting and chilling moments. In the best horror film fashion the pit of your stomach tightens every moment during this film. The ending is superb. The mak',\n",
              " 'This film contain far too much meaningless violence. Too much shooting and blood. The acting seems very unrealistic and is generally poor. The only reason to see this film is if you like very old cars',\n",
              " 'Pathetic attempt to use science to justify new age religion/philosophy. The two have nothing to do with each other and much of what is said about Quantum Physics in this mess is just plain wrong.<br /',\n",
              " 'I was truly looking forward to this title. It sounded and looked fun. The idea of someone making a cheesy 50s monster movie could have been worth a few laughs, but instead this title only bores. First',\n",
              " 'One of my sisters friends lent me this game, and it is too damn hard! It carries the appearance of a kids game, but you have to learn how to do tons of intricate moves that require you to twist and tu',\n",
              " \"Chuck Jones's 'Rabbit Seasoning', the second in the much beloved hunting trilogy, is often considered to be the best of the three. While I find it almost impossible to choose between this trio of fant\",\n",
              " 'A lovely little B picture with all the usual Joe Lewis touches.... people ripping up pillows and auras of lurking fear. Also, alas, an ending that comes out of nowhere, because, apparently, the auteur',\n",
              " '\"Crossfire\" is a justifiably famous 1947 noir that\\'s a murder mystery with a strong message. It stars Robert Young, Robert Mitchum, Robert Ryan, Sam Levene, and Gloria Grahame, and is strongly directe',\n",
              " 'AWWWW, I just love this movie to bits. Me and my cousins enjoy this movie a lot and I am just such a HUGE FAN!!! I hope they bring the TV series out on DVD soon. Come to mention it, I have not see the',\n",
              " 'Skippy from \"Family Ties\" plays Eddie, a wussy \\'metal\\' nerd who gets picked on. When his favorite wussy \\'metal\\' singer, Sammi Curr, dies, he throws a hissy fit tearing down all the posters on his bedr',\n",
              " 'Of course I would have to give this film 10 out of 10 as my uncle was the main screenplay writer of Once upon a Crime. Rodolfo Sonego wrote screenplays for over 50 years living in Italy. He was a grea',\n",
              " 'Goldeneye will always go down as one of thee most legendary games in VG history. Their is no doubt about that. But this game, although quite different, could quite possibly be the modern-day Bond cham',\n",
              " 'Helena Bonham Carter is the center of this movie. She plays her role almost immobile in a wheelchair but still brings across her traditional intensity. Kenneth Branagh was tolerable. The movie itself ',\n",
              " 'I commented on this when it first debuted and gave it a \"thumbs in the middle\" review, remarking that I\\'d give it the benefit of the doubt beyond just the first episode. I\\'ve seen a total of six episo',\n",
              " \"Just because someone is under the age of 10 does not mean they are stupid. If your child likes this film you'd better have him/her tested. I am continually amazed at how so many people can be involved\",\n",
              " '\"Hey Babu Riba\" is a film about a young woman, Mariana (nicknamed \"Esther\" after a famous American movie star), and four young men, Glenn, Sacha, Kicha, and Pop, all perhaps 15-17 years old in 1953 Be',\n",
              " 'After a snowstorm, the roads are blocked and the highway patrolman Jason (Adam Beach) comes to the diner of his friend Fritz (Jurgen Prochnow) and advises his clients that they will only be able to fo',\n",
              " \"This movie was a fairly entertaining comedy about Murphy's Law being applied to home ownership and construction. If a film like this was being made today no doubt the family would be dysfunctional. Si\",\n",
              " 'What can you say about the film White Fire. Amazing? Fantastic? Disturbing? Hilarious? These words are not big enough to describe the event which is White Fire. From wobbly, garbled beginning to profo',\n",
              " 'I am so disappointed. This movie left me feeling jipped out of my time and mental energy. Here was the quintessential Woody Allen film all over again: the neurotic upper-class Manhattanites debating w',\n",
              " 'This movie is all ultra-lightweight fluff, predictable from beginning to end. As a Don Knotts vehicle, \"The Incredible Mr. Limpet\" was much better, with Knott\\'s character there not nearly as incompete',\n",
              " 'If you are interested in learning more about this sort of thing happening in modern civilization, there is an excellent book called \"Outlaw Seas\" or \"The Outlaw Sea\", and it describes, in story after ',\n",
              " \"Gamers: DR is not a fancy made movie, it's more like amateur video. Horrible magic effect, really fake fireball, terribly made dungeon, castle, village...... sword, axe, shield, robe, plate..... okok.\",\n",
              " \"In all honesty, I haven't seen this film for many years, but the few times I have tend to make parts of it stick in my memory, as anyone who has seen it will understand. I first saw it as a child at a\",\n",
              " 'This is the only thing I will be able to look back on from the year 2006 and say now that rocked. It rocked hard, and yet it also rocked tasty. Mr.MEATLOAF added a nice little touch to this dish of a ',\n",
              " \"You'd think you're in for some serious sightseeing when the premise of the movie takes place primarily between two characters as they travel 3000 miles or so from France to Saudi Arabia, going through\",\n",
              " \"I watched this movie based on the good reviews here, and I won't make that mistake again.<br /><br />The first couple minutes shows that a group of people have been brought together by some tragedy, b\",\n",
              " \"A great Bugs Bunny cartoon from the earlier years has Bugs as a performer in an window display at a local department store. After he's done for the day the manager comes in to tell him that he'll be t\",\n",
              " 'I firmly believe that the best Oscar ceremony in recent years was in 2003 for two reasons: <br /><br />1 ) Host Steve Martin was at his most wittiest: \" I saw the teamsters help Michael Moore into the',\n",
              " 'While in a plane, flicking through the large choice of movies, I came across Live! almost accidentally. oh boy! what a choice.<br /><br />I remembered vaguely seeing the trailer over a year ago and co',\n",
              " \"Ah, another movie with motorcycles, hell's angels posse and Steve A-Lame-o as the not-so-cool car driver. This movie does not rely on story but lots of drinking, pot smoking, and lots of moronic acts.\",\n",
              " 'A rating of \"1\" does not begin to express how dull, depressing and relentlessly bad this movie is.',\n",
              " 'I feel dumber after watching the first 20 min,luckily i walked out and saved the rest of my brain, people should watch better films and take notes on why they are rated highly,not because of the budge',\n",
              " 'The most self-indulgent movie I have every had the misfortune to<br /><br />rent. Unwatchable. Much of the movie is obviously improvised,<br /><br />and not well. It looks like Toback took the first t',\n",
              " 'This has got to be the worst movie I haver ever seen Nielson in. This movie just does not have what he needs to be funny. I think the reasons that the Naked Gun and the like movies is that they did no',\n",
              " \"I like Ghost stories. Good ghost stories of bumps in the night, voices that cannot be explained. Now I've see many of them. As special efx have a ever more grip on todays films, some times to find a r\",\n",
              " \"Okay, I've watched this movie twice now, I have researched it heavily on the net, I have asked several people on there opinions. I have even gone to the length of reading the original Sheridan Lafanu \",\n",
              " \"This would've been a *great* silent film. The acting really is good, at least in a Look Ma, I'm Doing Really Big Acting! sort of way.<br /><br />Everything is HUGE. Every line is PROFOUND! Every scene\",\n",
              " 'This movie starts with the main character lying in a coma in a hospital ward, attended by two orderlies. The unconscious main character is heard in a voice over, saying that the orderlies are gay. The',\n",
              " 'This story about three women is a very sensitive study about: Muriël (Charlotte Van Den Eynde) the youngest, Laura (Els Dottermans) who is about 37 and Martha (Frieda Pittors) the oldest who is the mo',\n",
              " \"First and foremost, I loved the novel by Ray Bradbury. It's the kind of horror that gets under your skin and sticks with you later. It was one of his best books, with, you know, Fahrenheit 451 and Dan\",\n",
              " 'This film is so old I never realized how young looking Ray Milland looked in 1936, I remember him playing in a great film, \"Lost Weekend\". Ray plays the role of Michael Stuart, who is a very rich bank',\n",
              " 'I had eagerly awaited the first screening of this film ever since it was given to me on DVD at Christmas. Having reserved a special slot for it last night, I sat down to watch it with my daughter (age',\n",
              " 'If you like Sci-Fi, Monsters, and Ancient Legends, then you will love this movie!! <br /><br />The Special Effects are by far the best I have seen since Juarassic Park hit the big screen years ago. Wh',\n",
              " 'A rather silly little film you just may love.<br /><br />Although rather corny and cliché at times, it nonetheless works and makes for good clean fun. Five teams are engaged on a scavenger hunt and ba',\n",
              " \"This is an OK adaptation of the breath taking book of Dan Brown. I can't say it is novel or very good but they made a movie that you can enjoy. Given the excellent story, the result could have been be\",\n",
              " 'I never fell asleep during a movie. Never. This movie did the impossible.<br /><br />While many people claim the superiority of Japanese horror films over their American counterparts, this movie was a',\n",
              " 'What can I say? Not as bad as many here have made it out to be. The only reason I even watched this film that I had previously never heard of before, was strictly for IAN McSHANE.<br /><br />I was not',\n",
              " 'Originally harped as a sequel to \"The Slumber Party Massacre\" series, this film falls flat on it\\'s face with a new title. First off, if you are going to include the word \"massacre\" in your film\\'s titl',\n",
              " 'A killer, cannibal rapist is killed by a crazed cop on the scene of his latest murder. At his grave a cult have gathered with plans to resurrect him by peeing onto the grave. This of course works and ',\n",
              " \"Days of Heaven is one of the most painfully boring and pointless films I have ever seen. In no way, shape, or form would I recommend it to anyone...unless you're trying to put your kids to sleep or, G\",\n",
              " 'In 1929, director Walt Disney and animator Ub Iwerks changed the face of animation with the release of the very first installment of their \"Silly Symphonies\" series, \"The Skeleton Dance\". Iwerks and D',\n",
              " 'Yes, indeed, it could have been a good movie. A love biangle, (sorry for the poetical license, but is not a triangle!) an interesting story, unfortunately badly told. The image is sometimes weird, som',\n",
              " 'You wear only the best Italian suits from Armani, hand stitched and fitted to your exact measurements. Your automobile is the finest that German engineering has to offer, and is equipped with as many ',\n",
              " \"This is an excellent film about the characters in a adult swimming class, their problems, relationships and interactions with each other. It should have managed a wider distribution as it's much bette\",\n",
              " 'This mostly routine fact-based TV drama gets a boost from the fine performance by Cole. This is the story of a highly trained military man, unhappy with his wife and children, fakes his demise and run',\n",
              " \"I watched Six of a Kind for W.C. Fields - he's only in it for around 10 minutes and has one long scene, the infamous pool sequence he made famous in vaudeville, and several other great moments. The re\",\n",
              " 'EDMUND LOWE (who reminds me somewhat of Warren William), heads the nice cast of an interesting little mystery that moves at a brisk pace and runs just a little over an hour.<br /><br />Douglas Walton ',\n",
              " \"This movie is lame and not funny at all. The plot doesn't even make sense. Some scientist who works on the fringes of science opens a doorway to another dimension (maybe hell???) and his daughter gets\",\n",
              " \"Although I was hoping that I'd like it a little more, this was still certainly an impressive film. There were great performances by all the leads, and the story, while not what I'd call chilling, was \",\n",
              " \"Imagine this: a high school. Except it's boarding school, and the kids don't have parents around. Oh, and it's in Malibu. And the kids are all thin, white, and gorgeous, with the exceptional token min\",\n",
              " \"I had been amazed by director Antal's Kontroll back in 2003. His first American project, Vacancy, was less impressive but a decent start. Armored is his second feature and while the visual signature i\",\n",
              " \"First of all, the reason I'm giving this film 2 stars instead of 1 is because at least Peter Falk gave his usual fantastic performance as Lieutenant Columbo. He alone can get 10 stars for trying to sa\",\n",
              " 'This movie must be in line for the most boring movie in years. Not even woody Harrison can save this movie from sinking to the bottom.<br /><br />The murder in this movie are supposed to be the point ',\n",
              " 'Down at the Movie Gallery, I saw a flick I just had to see. It looked like a fun low-budget horror/action/western that I could get into. Yeah, I knew it would suck, but I rented it anyway hoping for l',\n",
              " 'i am finally seeing the El Padrino movie, from what I can see it is an incredible film, and lots of action Damian Chapa is good director, But I must admit I love his acting the Best.<br /><br />Also I',\n",
              " \"I thrive on cinema....but there is a limit. A NAME isn't enough to make A MOVIE!. The beginning of the movie puts us in a mood to expect the unseen yet. But we remain hungry ( or angry..) till the end\",\n",
              " 'Michael Callan plays a smarmy photographer who seems, nonetheless, to be regarded as a perfect \"catch\" by any woman that runs across him; could this have anything to do with the fact that he also co-p',\n",
              " 'I was drawn to \"Friends\" by the soundtrack scored by a very young and yet to be famous Elton John whom I had see in a club in nearby Houston. I had no idea of the emotions and impact the movie would m',\n",
              " 'During the Clete Roberts preface, I was beginning to think this was an Ed Wood production, however, what rolls out here is some pretty hard hitting stuff. The story of crime and corruption in a Southe',\n",
              " \"I decided to watch this one because it's been nominated for Oscar this year. I guess as many folks here I really wanted to like this movie, but ended up bored and disappointed. First scene was OK but \",\n",
              " 'Mom should really be given a different title to distinguish it from all the other movies out there called Mom or with the word Mom in the title.<br /><br />This is a vastly superior zombie movie to so',\n",
              " \"Empire of Passion starts out deceptively - that is, if you're immediately expecting it to be a horror movie. It's like a riff on James M. Cain's The Postman Always Rings Twice, at first: Seki (Kazuko \",\n",
              " 'I am not a big music video fan. I think music videos take away personal feelings about a particular song.. Any song. In other words , creative thinking goes out the window. Likewise, Personal feelings',\n",
              " 'Oh, my goodness. I would have never thought it was possible for me to see a thriller worse than Domestic Disturbance this soon, but here it is. Armed with rotten plot, terrible editing, stilted acting',\n",
              " 'The Man With a Golden Arm was one of a trio of great films around that same time that dealt with drug addiction. The other two were Monkey On My Back and A Hatful of Rain. But I think of the three thi',\n",
              " 'This film was basically set up for failure by the studio. One, Anne Rice (author of the book) offered to write the screen play but was refused by the studio. Two, they tried to stuff 2 in depth novels',\n",
              " 'Have previously enjoyed Wesley Snipes in several action flicks and I had expected a lot more, even from a score of 5.8 IMDb, the movie fails to entertain and even though the story is thin and unorigin',\n",
              " 'An intense thriller about a mute movie make-up artist who witnesses a snuff film being made when she is working late in the studio one night. After she tries to get away from the murder scene, she rea',\n",
              " \"Don't listen to most of these people. ill give you a better review of this movie which me and my friend love! Its about Jill Johnson, played by Camilla Belle, who babysits at the Mendrakis' house and \",\n",
              " 'What a frustrating movie. A small Southern town is overflowing with possibilities for exploring the complexities of interpersonal relationships and dark underbellies hidden beneath placid surfaces, as',\n",
              " 'This movie starred a totally forgotten star from the 1930s, Jack Pearl (radio\\'s \"Baron Munchausen\") as well as Jimmy Durante. However, 7-1/2 decades later, it\\'s being billed as a Three Stooges film be',\n",
              " 'When Carol (Vanessa Hidalgo) starts looking into her brother\\'s death, she begins to suspect something more sinister than \"natural causes\". The closer she gets to the truth, the more of a threat she be',\n",
              " 'One of the more intelligent serial killer movies in recent history. ZODIAC KILLER offers an imaginative take on the background and history of one of the most notorious serial killers. The filmmakers c',\n",
              " \"I've read the other reviews and found some to be comparison of movie v real life (eg what it takes to get into music school), Britney Bashing, etc, etc. so let's focus on the movie and the message.<br\",\n",
              " \"I like this movie because it is a fine work of cinema, made by people who care enough to make it art and not just home movies. It is filled with Super-surfer Greg Noll's home movies, and a boatload of\",\n",
              " 'I had a hard time staying awake for the two hour opening episode. It was dumbed down to such an extent, I doubt if I learned a single thing. The graphics were rudimentary. Any small idea was repeated ',\n",
              " 'Although the plot of this film is a bit far-fetched, it is worth seeing just for the performances of Michaels Caine and Gambon. The latter delivers a truly wonderful Dublin accent. Caine hams it up...',\n",
              " 'This movie was so badly written, directed and acted that it beggars belief. It should be remade with a better script, director and casting service. The worst problem is the acting. You have Jennifer B',\n",
              " 'When I was a younger(oh about 2)I watched Barney for the first time, and liked it. BUT, back then I didn\\'t exactly have a brain, either. And now I look back and see what a horrible show \"Barney\" reall',\n",
              " \"Steve McQueen has certainly a lot of loyal fans out there. He certainly was a charismatic fellow, one of the most charismatic the big screen ever knew. But even McQueen can't save this turkey of a fil\",\n",
              " 'This is a bad film, as its central message is very muddled and the plot seems like it was the result of merging several disparate scripts. As a result, it often makes absolutely no sense at all and ce',\n",
              " 'I caught this movie on the Sci-Fi channel recently. It actually turned out to be pretty decent as far as B-list horror/suspense films go. Two guys (one naive and one loud mouthed a**) take a road trip',\n",
              " '(Very mild spoilers; a basic plot outline, no real details) <br /><br />IF you go into this movie with sufficiently low expectations. I saw this film at a free screening a few days ago in Maryland, an',\n",
              " \"I shall begin with a disclaimer: This movie is NOT recommended for anyone who lack interest or have never played FF7 the game before watching. The movie relies on the audience's knowledge of each char\",\n",
              " 'This is quite possibly one of the worst movies ever made. Everything about it--acting, directing, script, cinematography--is dreadful. The alien (a human in sparkly suit) claims to be from a nearby un',\n",
              " 'If you really really REALLY enjoy movies featuring ants building dirt-mirrors, eating non-ants, and conquering the world with a voice-over narrative, then this is the movie for you. Basically, a coupl',\n",
              " \"Joseph Brady and Clarence Doolittle are two sailors, who have a four-day shore leave in Hollywood.Joe knows everything about girls and can't wait to see Lola, while Clarence is shyer and needs some ad\",\n",
              " 'From director Barbet Schroder (Reversal of Fortune), I think I saw a bit of this in my Media Studies class, and I recognised the leading actress, so I tried it, despite the rating by the critics. Basi',\n",
              " 'Things to Come is an early Sci-Fi film that shows an imagined world, or \"Everytown\" through 100 years. You can break it up into about 4 different scenes or parts. The film spans from 1940 to 2036 and ',\n",
              " 'Weak,stale, tired, cliched; wants to be Basic Instinct, but misses opportunity after opportunity for fresh perspectives, new insights. Insipid, trite, grotesque, and without the possibly-redeeming val',\n",
              " 'One word can describe this movie and that is weird. I recorded this movie one day because it was a Japanese animation and it was old so I thought it would be interesting. Well it was, the movie is abo',\n",
              " \"While i was the video store i was browsing through the one dollar rentals and came upon this little gem. I don't know what it was about it but i just had a gut instic about it and wow was i ever right\",\n",
              " 'this film is quite simply one of the worst films ever made and is a damning indictment on not only the British film industry but the talentless hacks at work today. Not only did the film get mainstrea',\n",
              " \"I'll not comment a lot, what's to??? Stereotype characters, absolute ignorance about Colombia's reality, awful mise en scene, poor color choice, NOT funny (it supposed to be a comedy and they expect t\",\n",
              " \"This movie is a riot. I cannot remember the last time I had such a great time at the movies. I've seen a few good comedies in my time and usually they are pretty funny. But this one is wall to wall gr\",\n",
              " 'A fey story of a Martian attempt to colonize Earth. (Things must be pretty bad back on Mars.) Two state troopers investigate the scene of a reported UFO crash. Whatever landed is buried under the ice ',\n",
              " \"It's rare that I feel a need to write a review on this site, but this film is very deserving because of how poorly it was created, and how bias its product was.<br /><br />I felt a distinct attempt on\",\n",
              " \"Relentless like one of those loud action movies. The entire cast seems to be on speed. I didn't quite get the director's intentions if any. I wonder if she's ever seen a Stanley Donen, Vincent Minnell\",\n",
              " 'This movie does a great job of explaining the problems that we faced and the fears that we had before we put man into space. As a history of space flight, it is still used today in classrooms that can',\n",
              " \"In an alternate 1950s, where an outbreak of the undead (caused by a mysterious 'space-dust') has been contained through the use of special electronic collars, a young loner, Timmy, finds a friend in F\",\n",
              " 'An extremely down-to-earth, well made and acted \"Rodeo\" Western. No gussied up stars needed here as all cast members were regular people telling a real life story about a rodeo hustler and his entoura',\n",
              " \"Despite some reviews being distinctly Luke-warm, I found the story totally engrossing and even if some critics have described the love story as 'Mills and Boon', so what? It is good to see a warm, tou\",\n",
              " '\"American Nightmare\" is officially tied, in my opinion, with \"It\\'s Pat!\" for the WORST MOVIE OF ALL TIME.<br /><br />Seven friends (oddly resembling the K-Mart version of the cast of \"Friends\") gather',\n",
              " 'First off, I have to say that I loved the book Animal Farm. I read it with my 9th grade class, and it was great. We also decided that watching the movie would be beneficial. The movie was so disappoin',\n",
              " \"This movie was extremely boring. I only laughed a few times. I decided to rent it when I noticed William Shatner's name on the cover. It's all about this little kid who gets picked on all the time by \",\n",
              " \"I was disgusted by this movie. No it wasn't because of the graphic sex scenes, it was because it ruined the image of Artemisia Gentileschi. This movie does not hold much truth about her and her art. I\",\n",
              " \"Such a joyous world has been created for us in Pixar's A Bug's Life; we're immersed in a universe which could only be documented this enjoyably on film, but more precisely a universe which could only \",\n",
              " 'What an empty and lack lustre rendition of the classic novel. I do wish people would stop messing about with classics when they clearly have no idea of the real intention or point of the original. Thi',\n",
              " \"My Father The Hero used to be my favorite movie when I was Younger. It's about Andre, a divorced french man who wants to take his beautiful daughter (katharine heigl} on a vacation, hoping to get a li\",\n",
              " 'It is surprising that a production like this gets made these days, especially for television. Considering the strong sexual themes and explicit lovemaking scenes, not to mention lesbianism, this has b',\n",
              " \"I just don't get some of the big premises of this episode - that Miranda is so remarkable, and that there's anything so ugly it would make you insane. Someone here made the remark that maybe it's the \",\n",
              " 'This is one of my all time favorite movies and I would recommend it to anyone. On my list of favorite movies (mental list, mind) the only ones on par with it are movies such as The Lord of the Rings s',\n",
              " 'I know that you\\'ve already entered this in film festivals (or at least I think you have, I may just be making that up) but I think this should get \"best animated short film\" in every one. Bravo. I can',\n",
              " 'This is probably the first entry in the \"Lance O\\'Leary/Nurse Keat\" detective series; in subsequent O\\'Leary films, he was played by much younger actors than Guy Kibbee.<br /><br />A group of relatives ',\n",
              " 'This animation has a very simple and straightforward good vs. evil plot and is all about action. What sets it apart from other animation is how well the human movements are animated. It was really bea',\n",
              " 'My ratings: Acting - 3/10 Suspense - 2/10 Character Attachment - 1/10 Plot - 2/10 Character Development - 2/10 Overall - 2/10<br /><br />This show sucks very much officially. For me, CSI Miami is the ',\n",
              " 'I am not a Faulkner fan (which is considered sacrilegious, especially since I grew up near the author\\'s hometown); however, I think this is an excellent movie. On par with the quality of the movie \"To',\n",
              " 'Chinese Ghost Story III is a totally superfluous sequel to two excellent fantasy films. The film delivers the spell-casting special effects that one can expect, but fails painfully on all other fronts',\n",
              " 'I can\\'t stand most reality shows and this one is worst than the one with Paris Hilton, and sure it\\'s his company. But \"you\\'re fired\" or \"you\\'re hired\", for how many seasons now? After watching the sho',\n",
              " 'If I had known this movie was filmed in the exasperating and quease-inducing Dogme 95 style, I would never have rented it. Nevertheless, I took a dramamine for the seasickness and gave it a shot. I la',\n",
              " \"The story and the show were good, but it was really depressing and I hate depressing movies. Ri'Chard is great. He really put on a top notch performance, and the girl who played his sister was really \",\n",
              " 'First, let me just comment on what I liked about the movie. The special effects were fantastic, and very rarely did I feel like I was watching a video game. There, that is the last nice thing I have t',\n",
              " \"This is one of the best TV productions of a musical ever. I have heard the Merman cast album, the Angela Lansbury album, I have seen Tyne Daly live, and I've seen the Rosalind Russell movie countless \",\n",
              " 'I am sorry to say that this film is indeed bad. It reminds me of a c-grade porn movie with one major difference: no porn.<br /><br />The story and dialogue needs a complete overhaul. Maybe then the ba',\n",
              " 'Is it a perfect movie? No. It is a weird adaptation from a sci-fi book and it features vampires from space, naked beauties and the British army efficiency.<br /><br />When I first saw this movie I was',\n",
              " 'Overall I was rather impressed with the pilot. The initial first fifteen minutes were worrying, as it did feel the creators were trying to create a science fiction version of The O.C but this fear is ',\n",
              " \"I'm the type of guy who loves hood movies from New Jack City to Baby Boy to Killa Season, from the b grade to the Hollywood. but this movie was something different. i am no hater and this movie was ki\",\n",
              " 'I am a huge fan of the Farcry Game, HUGE fan. It still holds a place in my top-10 games list of all time! The story line was new, fresh... A truly brilliant foundation to base a movie on... or so i th',\n",
              " \"one of the best ensemble acted films I've ever seen. There isn't much to the plot, but the acting- incredible. You see the characters change ever so subtly, undr the influence of the rented villa in I\",\n",
              " \"I haven't seen this movie in about 5 years, but it still haunts me. <br /><br />When asked about my favorite films, this is the one that I seem to always mention first. There are certain films (works \",\n",
              " 'Today, I wrote this review in anger at Uwe Boll and Hollywood.<br /><br />Hollywood has produced movies based on one of the darkest days of our nation. 911 changed everything. It changed our perceptio',\n",
              " \"You cannot deny that we have an affinity for speed. That's why movies like Fast and the Furious, Dhoom, Rempit get made to play to the satisfaction of audiences, especially local ones. We live on a ti\",\n",
              " \"Im the type of person who always goes 2 to horror section when I'm picking a film, so i picked five across the eyes, i was disgusted with this film and thought there was no story line and no point tha\",\n",
              " 'Seven Ups has been compared to Bullitt for the chase scene, but does not come anywhere near matching Bullitt. Bullitt has a beginning that builds builds builds. When McQueen leaves the seedy hotel, ge',\n",
              " 'Have you ever heard the saying that people \"telegraph their intentions?\" Well in this movie, the characters\\' actions do more than telegraph future plans -- they show up at your house drunk and buffet ',\n",
              " '\"Night of the Living Homeless\" was a fairly strong finish to the first half of Season 11. Obviously a parody of various zombie movies, most notably Dawn of the Dead, this episode parallels the homeles',\n",
              " \"<br /><br />I'm not sure who decides what category a movie fits into, but this movie is NOT a horror movie. As for the story, it was fairly interesting, but rather slow. I was especially disappointed \",\n",
              " 'I gave this a 1. There are so many plot twists that you can never be sure to root for. Total mayhem. Everyone gets killed or nearly so. I am tired of cross hairs and changing views. I cannot give the ',\n",
              " \"Not an easy film to like at first with both the lead characters quite unlikeable but luckily the heart and soul of the film is Paula Sage's touching performance which drives the film into uncharted wa\",\n",
              " 'I read the book before seeing the movie, and the film is one of the best adaptations out there. Very true and faithful to the book. Sean Penn and Sarandon are amazing. Robbins is a talented filmaker a',\n",
              " 'DOCTEUR PETIOT, starring Michel Serrault, is a brutal story about a brutal man. A doctor who heals the sick in occupied France, even if their ability to compensate is not there. Yet, he preys on the w',\n",
              " 'I just got this video used and I was watching it last night. The acting started out extremely bad (hey------hey------twister) but got very good soon after wards. The tornadoes looked extremely fake, a',\n",
              " \"This film is really vile. It plays on the urban paranoia of the 70s/80s and puts it into a school context. I'm not saying that urban crime wasn't a problem for a lot of people or that schools weren't/\",\n",
              " 'What a horrible, horrible film. The worst collection of cliches I have seen in a long time. Not that I saw much. I left the theatre screaming after about 40 minutes in search of a stiff drink to sooth',\n",
              " 'Motocrossed was fun, but it wasn\\'t that great. I guess I just didn\\'t understand a lot of the Motocross racing \"lingo\" (and there was A LOT of that in the film)! The plot wasn\\'t what I expected from th',\n",
              " 'Sixth escapade for Freddy Krueger in which he has finally managed to kill off virtually every youth in Springwood; now he wants to broaden his horizons and (**SPOILER**) needs a family member in order',\n",
              " \"OK, I'm Italian but there aren't so many Italian film like this. I think that the plot is very good for 3/4 of the film but the final is too simple, too predictable. But it's the only little mistake. \",\n",
              " 'If you only see one Ernest movie in your life, make it this one! This is by far the best in the series, with its nonstop laughs and clever humor that is suitable for all ages. The other \"Ernest\" flick',\n",
              " 'An idiotic dentist finds out that his wife has been unfaithful. So, no new story lines here. However, the authors managed to create a stupid, disgusting film. If you enjoy watching kids vomiting, or s',\n",
              " \"The first Cube movie was an art movie. It set up a world in which all the major archetypes of mankind were represented, and showed how they struggled to make sense of a hostile world that they couldn'\",\n",
              " 'I have just watched this movie on DVD late this morning and was so disappointed that even thought it was a good joke for the audience. In other words - the creators planed to make comedy not drama. Ho',\n",
              " 'I believe Shakespeare explained what I just read beautifully. Me thinks he (the lady) doth protest too much. The whole thing sounded to me as if the author was trying to convince himself! He sites pro',\n",
              " '\"I presume you are here for damage to your mental circuitry.\" - VAL<br /><br />Mike Nelson made me watch this...he mentioned it in his book, \"Movie Megacheese.\" I asked myself, \"Why would Mike Nelson ',\n",
              " \"This movie was Flippin Awful....I wanted those hours of my life back. For god's sake, -stay far away from this awful crumb ball movie at all costs. Its not worth mentioning the title, but the ratings \",\n",
              " \"This is a movie that i can watch over and over and never ever get tired of it, it has lot's of laughs, guns, action, crime,, good one liners, and a decent plot, with an over the top, Donald Sutherland\",\n",
              " \"If you like to see animals being skinned alive, their heads smashed, dogs throats being crushed my men stomping on them, then this one is for you! But if you are somewhat normal, and don't need to see\",\n",
              " \"Another Spanish movie about the 1936 Civil War. This time we're told about the story of Carol (lovely played by débutant Clara Lago), a little girl which comes to live to a little Spanish village from\",\n",
              " 'A response to previous comments made by residents of the region where this motion picture was lensed: One person suggested that the closing and destruction of the Ocean View Amusement Park led to a do',\n",
              " \"I was expecting a lot from Mr.Amitabh Bachan's role of SARKAR, but am disappointed. Being a Ram Gopal Verma's direction i was not ready for this kind of a movie. Sarkar is supposed to be a strong char\",\n",
              " 'A trio of buddies, sergeants all in the British Army, carouse & brawl their way across Imperial India. Intensely loyal to each other, they meet their greatest & most deadly challenge when they encount',\n",
              " \"This movie pretty much sucked. I'm in the Army and the soldiers depicted in this movie are horrible. If your in the Military and you see this movie you'll laugh and be upset the entire movie because o\",\n",
              " \"If you watched Pulp Fiction don't see this movie. This movie is NOT funny. This is the worst parody movie ever. This is a poor attempt of parody films.<br /><br />The cast is bad. The film is bad. Thi\",\n",
              " 'I went to see \"Passion of Mind\" because I usually get a kick out of the genre of alternate reality romances, i.e. \"Sliding Doors,\" \"Me, Myself, I,\" etc. <br /><br />But this was the worst one I\\'ve eve',\n",
              " 'I thought that ROTJ was clearly the best out of the three Star Wars movies. I find it surprising that ROTJ is considered the weakest installment in the Trilogy by many who have voted. To me it seemed ',\n",
              " \"Crossfire remains one of the best Hollywood message movies because, unlike the admirably intentioned Gentleman's Agreement, which it beat to theatres by a few months, it chooses to send its message vi\",\n",
              " \"This movie basically is a very well made production and gives a good impression of a war situation and its effects on those involved. It's always interesting to see the story from the 'other' side for\",\n",
              " 'So I rented this from Netflix because somebody gave me Roger Ebert\\'s book \"I hated, hated, hated this movie\" and he gave this one a rare zero-star rating in the book and said at the end of his origina',\n",
              " 'What a boring film! To sum it all up, its was basically just Nana Patekar beating up his daughter-in-law Karisma Kapoor, while she tried to flee from the village, with her son. Can someone say BORING?',\n",
              " \"{rant start} I didn't want to believe them at first, but I guess this is what people are talking about when they say South Korean cinema has peaked and may even be going downhill. After the surprising\",\n",
              " \"As a native Chinese, I can not accept this kind of idea that some people must die for a 'better world'. I said 'better world' because it is a lie that Chinese people have been indoctrinated for thousa\",\n",
              " 'This had a great cast with big-name stars like Tyrone Power, Henry Fonda, Randolph Scott, Nancy Kelly, Henry Hull and Brian Donlevey and a bunch more lesser-but-known names with shorter roles. It also',\n",
              " 'I remember watching this series avidly, every Saturday evening. It was the highlight of the week. I loved everything about it, the location, the costumes, the actors and the wonderful music by Clannad',\n",
              " 'I don\\'t normally write reviews, but this \"film\" was special. I couldn\\'t turn it off. I don\\'t believe I\\'ve ever seen a worse movie, but there I sat, watching. It was like a horrible car wreck with bloo',\n",
              " 'Few would argue that master animation director Hayao Miyazaki is one of the few to hold this ability.<br /><br />(No. Too many are focused on John Lassiter\\'s \"amazing\" ability to steal other movies pl',\n",
              " 'Attractive Marjorie(Farrah Fawcett)lives in fear after being accosted by a lone biker. She is mortally shaken with the fact her attacker knows her address. As expected, Joe(James Russo), the attacker ',\n",
              " 'I find it sad that just because Edward Norton did not want to be in the film or have anything to do with it, people automatically think the movie sucks without even watching it or giving it a chance. ',\n",
              " 'I watched this movie on TV last night, hoping for a realistic account of what could happen if there were an outbreak of some highly transmittable disease. I was disappointed, and I think the movie was',\n",
              " 'For those out there that like to think of themselves as reasonably intelligent human beings, who love film, have good attention to detail and enjoy indie movies with funny, smartly written dialogue th',\n",
              " 'THE GREAT CARUSO was the biggest hit in the world in 1951 and broke all box office records at Radio City Music Hall in a year when most \"movergoers\" were stay-at-homes watching their new 7\" Motorola t',\n",
              " 'I attended an advance screening of this film not sure of what to expect from Kevin Costner and Ashton Kutcher; both have delivered less than memorable performances & films. While the underlying \"gener',\n",
              " '1) I am not weapon expert, but even i can see difference between U.S. army riffles in WWI and WWII. In movie we can see privates, armed with \"M1 Garand\" (invented in year 1932!), not authentic \"1903 S',\n",
              " 'Do you ever wonder what is the worst movie ever made? Stop wondering. I\\'m telling you, Michael is it!<br /><br />It is not \"heartwarming,\" \"entertaining,\" or \"Travolta at his best.\" It just sucks. If ',\n",
              " \"The film began with Wheeler sneaking into the apartment of his girlfriend. Her aunt (Edna May Oliver--a person too talented for this film) didn't like Wheeler--a sentiment I can easily relate to. The \",\n",
              " \"I was really hoping that this would be a funny show, given all the hype and the clever preview clips. And talk about hype, I even heard an interview with the show's creator on the BBC World Today - a \",\n",
              " 'First of all \"Mexican werewolf in Texas\" is not a werewolf movie. This title is bullcrap. The story is actually about a Chupacabra that kills all the local villagers in the little town of Furlough in ',\n",
              " 'This movie is so God-awful that it was literally a chore to watch. I wanted to eject it from my vcr and throw it across the room, but kept thinking (foolishly) that it would eventually get funny and t',\n",
              " 'The symbolic use of objects, form editing, the position of characters in the scene... these were all used with such joyous abandon by Hitchcock that you can really see what a fertile genius he had. Th',\n",
              " \"I found this movie to be very good in all areas. The acting was brilliant from all characters, especially Ms.Stone and Morissey. Tramell's Character just gets smarter and more psychologically twisted \",\n",
              " 'Rather like Paul Newman and Steve McQueen with their racing car movies this has all the appearance of a \"jollies\" project for Robert Redford, as he gets to ski up hill and down dale in the Alpine suns',\n",
              " 'I would recommend this film to anyone who is searching for a relaxing, fun-filled, thought-provoking movie. The absence of sex, vulgarities and violence made for a most pleasant evening. I especially ',\n",
              " 'This is an art film that was either made in 1969 or 1972 (the National Film Preservation Foundation says 1969 and IMDb says 1972). Regardless of the exact date, the film definitely appears to be very ',\n",
              " 'I read the book and saw the movie. Both excellent. The movie is diamond among coals during this era. Liebman and Selby dominate the screen and communicate the intensity of their characters without fla',\n",
              " 'A drifter looking for a job is mistaken for a hit man in a small Wyoming town, leading to all kinds of complications. Cage is perfectly cast as the unlucky schmuck hoping to make a quick buck and get ',\n",
              " 'I really liked this movie. I have seen several Gene Kelly flicks and this is one of his best. I would actually put it above his more famous American in Paris. Sometimes it seems the story gets lost in',\n",
              " 'Although promoted as one of the most sincere Turkish films with an amateur cast, Ice-cream, I Scream is more like a caricature of sincerity.<br /><br />The plot opens with the dream of Ali, a travelin',\n",
              " 'Stan Laurel and Oliver Hardy are the most famous comedy duo in history, and deservedly so, so I am happy to see any of their films. Ollie is recovering from a broken leg in hospital, and with nothing ',\n",
              " 'OK I have to admit that I quite enjoyed House of the Dead despite its well documented failings. This however was the worst film I have seen since Demons at the Door. Compared to DATD the effects are v',\n",
              " \"I was -Unlike most of the reviewers- not born in the 80's. I was born on may 14th 1994. Despite this, my life was very much in the style of the 80's. When other kids had playstations, I was playing Ze\",\n",
              " 'Just when I thought I would finish a whole year without giving a single movie a \"Bomb\" rating, a friend brought this notorious turd to my house last night. I feared the worst knowing its reputation, a',\n",
              " 'As is often the case when you attempt to take a 400 plus page book and cram it into a two hour film, a lot is lost. Here director John Madden (Shakespeare in Love) takes on an extremely ambitious proj',\n",
              " 'My father grew grew up watching George Reeves as Superman and when I was a little kid he had episodes on VHS and let me view them including this movie (passing them down in the family if you will), an',\n",
              " 'This unpretentious Horror film is probably destined to become a cult classic. Much much better than 90% of the Scream rip-offs out there! I even hope they come up with a sequel!',\n",
              " 'I read the book before watching the movie and it left me emotionally drained but I felt that it truly transported me to Afghanistan, a culture I know very little about. I had great hopes for this movi',\n",
              " 'Years ago, Sara, a young girl witnessed her parents being murdered, now as an adult she suffers from various mental ailments (did I mention she has an imaginary friend?) This film lulls the viewer, no',\n",
              " \"In short if you want to watch Burt Reynolds best films than this one must be included. If you don't like Burt you may still like this. If you love Burt this may become one of your favorite movies of a\",\n",
              " 'I have watched Love Jones over thirty times. It is one of the rare films that depict a love story about people who happen to be African-Americans. The dialogue was realistically written, and delivered',\n",
              " 'The basic genre is a thriller intercut with an uncomfortable menage-a-trois. Fellowes has tried to make a lot more out of this, using the lies of the title in order to bring about all manner of small ',\n",
              " \"This is absolutely the best movie I have ever watched. At the age of 12 I was up late and ran across the movie. It was on the USA channel, Gilbert Godfrey's Up All Night. I will never forget. At the t\",\n",
              " \"Holes is an awesome movie. I love it a lot and it's one of my favorite films. It's one of the few flicks produced by Disney that isn't cheesy. Holes is generally a very cool motion picture. I wish Dis\",\n",
              " 'I cannot hate on the show. When the old (and better) tech TV had to hit the bricks, the channel was reformatted and new shows stepped in. \"Attack of the Show\" is the replacement for the Screen Savers,',\n",
              " 'Worst DCOM I have seen. Ever. Well, maybe not as bad as Smart House. This was just bad. The acting and story was fine, but the effects SUCKED!<br /><br />They were so fake! The only good fight scene w',\n",
              " 'its awful i cant believe that one of the greatest nonsenses in the world can be a blockbuster and the favorite movie of millions of people!!!!!!!!!!!!!!!!!!!!! a movie which has no story,again shahruk',\n",
              " 'Some people may call \"Cooley High\" the same sort of thing as \"American Graffiti\", but I wouldn\\'t. For starters, in \"AG\", everyone was white, whereas in \"CH\" they\\'re all black. Moreover, this one has a',\n",
              " 'So wonderful, so quirky, so romantic, so Italian. The film is so feather -light you float off into its refracted reality and you never want to return to the humdrum again. A kitchen sink world of bake',\n",
              " 'This film is, quite simply, brilliant. The cinematography is good, the acting superb and the story absolutely breathtaking. This is the story of Donald Woods, a white South African who thought himself',\n",
              " 'I have recently seen this production on DVD. It is the first time I have seen it since it was originally broadcast in 1983 and it was just as good as I remembered. At first as was worried it would see',\n",
              " \"In a time of bad, if not plain awful, comedies, King of Queens is more than just a breath of fresh air, it's a complete oxygen tank! It is in my opinion one of the 5 best comedy shows of all times. No\",\n",
              " 'PREY <br /><br />Aspect ratio: 1.37:1<br /><br />Sound format: Mono<br /><br />A lesbian couple (Sally Faulkner and Glory Annan) living in a remote country house are driven apart by the arrival of a y',\n",
              " 'The tourist season has just ended on a remote island off the coast of Scotland, winter is beginning to set in and the inhabitants, both humans and sheep alike are settling down to much quieter times a',\n",
              " \"This review also contains a spoiler of the first movie -- so if you haven't seen either movie and want to but don't want the spoilers, please don't read this review!<br /><br />While this movie is sup\",\n",
              " \"This movie is ridiculous. It's attempting to be a comedy but the screenplay is horrible. The whole movie is done in low light and you cant grasp the fact that it's a comedy. Truly is bad cinematograph\",\n",
              " \"In dramatising Wilde's novel, John Osborne has condensed events, eliminated a number of characters, and generally implied rather than shown Dorian's essential wickedness. If you want a more explicit r\",\n",
              " 'It starts out like a very serious social commentary which quickly makes one think of other Clark movies like Kids, Bully, etc. But then just as quickly, it unravels into a direction-less mess. Who is ',\n",
              " 'This is my first Deepa Mehta film. I saw the film on TV in its Hindi version with its \"Sita\" character presented as Nita. I also note that it is Radha who underwent the allegorical trial by fire in th',\n",
              " 'All the way though i was thinking to myself \"Oh god why!\" At the very beginning i thought \"Right it might be average,\" but the acting and plot on most parts was atrocious.<br /><br />Every part in it ',\n",
              " 'At 2:37, a high school student commits suicide. Not shown who has taken their lives or reasons known, time skips back to the start of the day. From here we follow six separate students; Marcus, Melody',\n",
              " 'The quote above just about says it all for \"Slipstream\". I should have bailed out of this film after the first half hour, but decided I ought to be fair and give it a chance. I won\\'t watch it again, s',\n",
              " 'Director Edward Sedgwick, an old hand at visual comedy, successfully leads this Hal Roach road show which tenders a fast-moving and adroit scenario and excellent casting, employing a large number of R',\n",
              " \"The jokes are obvious, the gags are corny, and the characters are walking characatures - but I couldn't stop from laughing at his highly entertaining movie. No matter how many times I see it, I still \",\n",
              " 'These slasher pics are past their sell by date, but this one is good fun.<br /><br />The valentine cards themselves are witty, and well thought out.<br /><br />The film has one Peach of a line... \"He\\'',\n",
              " 'The only reason I gave this episode of \"Masters of Horror\" a 2 instead of a 1 is because the two lead actors are good, and it wasn\\'t shot on VHS. The story, the dialog, and the plot are ridiculous. <b',\n",
              " \"Like most, I thought 'another crocodile movie'. So far we've had Primeval and Rogue in the last 12 months, what can they do that's new? Where both those films were about action and violence, this one'\",\n",
              " \"There are a couple of prior comments here which opine about this flick's abundance of clichés throughout -- and I agree completely, both with regard to the characters AND the dialog.<br /><br />I'd re\",\n",
              " \"If you haven't seen this yet, you really should, on DVD. I can't believe how much I enjoyed it! It is amazingly realistic and believable. True, much of it is speculated, and I would have liked to have\",\n",
              " 'Why is it that Canada can turn out decent to good movies in every genre, other then action? I caught Dragon Hunt on TV the other day and it was like a train wreck. I just could not change the channel,',\n",
              " 'Ab Tak Chhappan is a fictitious story surrounding a police department in Mumbai, India. Sadhu Agashe is a hard working, hard-edged cop heading up a plain clothed crime squad who makes a name for himse',\n",
              " \"Let's keep it simple: My two kids were glued to this movie. It has its flaws from an adult perspective, but buy some jelly-worms and just enjoy it. <br /><br />And the Pepsi girl was excellent!<br /><\",\n",
              " \"It was 1 a.m. in the morning and I had nothing else to do. Don't judge me... please.<br /><br />We're back in time during the Spanish settlements. A group have made their way onto an island. It doesn'\",\n",
              " 'Lackawanna Blues is and excellent movie. The casting was perfect. Every actor and actress was perfectly suited for the role they played. Their chemistry together was amazing. The acting was superb. I ',\n",
              " \"Saturday June 3, 6:30pm The Neptune<br /><br />Monday June 5, 4:30pm The Neptune<br /><br />Few celebrations of ethnic and cultural identity succeed as mightily as Carlos Saura's brilliant interpretat\",\n",
              " 'As most people I am tired of the by the numbers clichéd movies that Hollywood makes. There seems to be no creativity in Hollywood. Companies only want to spend money on remakes are sequels that have a',\n",
              " \"Many of the reviews and comments I have read about this movie say that this is a rather stale film and performance by Clara Bow. Although the story-line was rather typical of Clara's later silents, I \",\n",
              " 'As the number of Video Nasties I\\'ve yet to see dwindles, this little pile of garbage popped up on my \"to rent\" list when I saw it was available.<br /><br />The premise involves a fashion model or some',\n",
              " 'I rented this thinking it would be pretty good just by the cover of the movie case. Judge and Jury started out pretty good killer chasing the man who killed his wife on a bike with a cool gun, but thi',\n",
              " 'I found out about this film because Jewish Ben Chaplin from Game On was in it. Game On is a funny British sitcom and apparently he left because he wanted to break into Hollywood and star in this film.',\n",
              " 'This movie has everything typical horror movies lack. Although some things are far fetched we are dealing with quality snow man engineers. The only preview i can reveal is that i cant wait for Jackzil',\n",
              " \"Having just seen Walt Disney's The Skeleton Dance on the Saturday Morning Blog as linked from YouTube, I used those same sources to watch a remake done in Technicolor for the Columbia cartoon unit and\",\n",
              " \"The cast of this film contain some of New Zealander's better actors, many of who I have seen in fabulous roles, this film however fills me with a deep shame just to be from the same country as them. T\",\n",
              " 'Emily Watson and Tom Wilkinson together - what a treat! With Rupert Everett and Linda Bassett rounding off the supporting roles to the foursome of lies and intrigue. Yet at the heart of it all, each c',\n",
              " 'I am amazed with some of the reviews of this film. The only place that seems to tell the truth is RottenTomatoes.com. This film is awful. The plot is extremely lazy. It is not scary either. People out',\n",
              " 'Angela (Sandra Bullock) is a computer expert but, being shy and somewhat of a recluse, she does all of her work from the confines of her condo. Just as she is about to take a vacation in Mexico, a co-',\n",
              " \"I rented the DVD in a video store, as an alternative to reading the report. But it's pretty much just more terror-tainment.<br /><br />While the film may present some info from the report in the drama\",\n",
              " \"Look, this is a low budget horror film that suffers from all of the problems that go with low budget movies. But you must see this just to watch Lisa Erickson as Julie. She is SMOKIN' hot and a great \",\n",
              " \"It wasn't until I looked at the trivia section that I found out that the original producer/star of this movie Tyrone Power died during its making . This no doubt explains why everyone on screen seems \",\n",
              " \"I am a huge Woody Allen fan and so when I saw that this was playing at the cinema I couldn't help myself. I wanted to see how Allen would follow up his magnificent film Match Point seeing as this is a\",\n",
              " 'I rented this film because of my interest in American history, and especially the somewhat weird story of the Mormons. This movie attempts to make some sense out of how Joseph Smith could turn his \"vi',\n",
              " '1983\\'s \"Frightmare\" is an odd little film. The director seems to be trying to combine the atmosphere of classic \\'30s/\\'40s style horror movies with the shock factor of the then-exploding \\'80s slasher g',\n",
              " \"People watch movies for a variety of different reasons. This movie didn't have the big budget, there's no special effects, no car chases and there's no explosions. Actually reality doesn't have much o\",\n",
              " 'I think that you can not imagine how these people really work...!! Before I came to the studios to watch the guys work there, I actually thought quite the same as you do. But since I saw and did the w',\n",
              " \"As usual, I am making a mad dash to see the movies I haven't watched yet in anticipation of the Oscars. I was really looking forward to seeing this movie as it seemed to be right up my alley. I can no\",\n",
              " \"A group of friends break down in the middle of nowhere (one had a flat tire, the other's Jeep mysteriously won't start). One of them takes the tire to a run down service station and that is the last a\",\n",
              " 'Most Lorne Michaels films seem to fail because they\\'re essentially just extended versions of skits that barely managed to make people laugh in five-minute segments. \"Tommy Boy\" is a character right fr',\n",
              " 'Having read during many years about how great this film was, how it established Ruiz among the french critics (specially the snobbish Cahiers crowd), when I finally watched it about a year ago, I foun',\n",
              " 'Many teenage sex comedy movies come and go without much fanfare, however, every so often a movie might come along thats honest, funny, entertaining AND memorable. The Last American Virgin is a special',\n",
              " \"I loved this show from it's first airing, and I always looked forward to watching each episode every week. The plot, characters, writing, special affects were outstanding! Then the sci-fi channel scre\",\n",
              " \"I didn't know what to except so I think it was a lot better not having excepted much. Don't get my wrong its not a bad short film. Tess Nanavati is a relatively new directer and writer so I think she \",\n",
              " \"Did the first travesty actually make money? This is another sequel (along the lines of ANOTHER STAKEOUT) that no one asked for. But we've received it anyway. The sequel is like its predecessor, comple\",\n",
              " \"I was never so bored in my life. Hours of pretentious, self-obsessed heroin-addicted basket cases lounging around whining about their problems. It's like watching lizards molt. Even the sex scenes wil\",\n",
              " \"This movie is awesome on so many levels... and none of them are the level that it was intended to be awesome on.<br /><br />Just remember this: When you're watching Shaun of the Dead and other recent \",\n",
              " 'The Ladies Man is laugh out loud funny, with a great diverse cast as well as having some very stupid but excellent scenes (including the funniest love song ever written).<br /><br />Ferrell is his usu',\n",
              " \"when i first heard about this movie i thought it would be like The Duchess(2008), but when i saw the first 30 minutes of The Young Victoria i knew this wouldn't just be a solid movie. Almost everythin\",\n",
              " \"A flying saucer manned (literally) by a crew of about 20 male space explorers travels hundreds of millions of light years from earth to check in on a colony founded some 25 years ago on a 'forbidden p\",\n",
              " 'I just saw this film on DVD last night, and decided to check out the reviews this morning. It seems that \"I, Robot\" has polarized the critical viewing community here on IMDb (and given rise to a lot o',\n",
              " 'This was a fine example of how an interesting film can be made without using big stars and big effects. Just tell a true story about the struggles of two African American women over a turbulent centur',\n",
              " \"I have bought the complete season of Surface. watched it in 3 days! I was so captured by the the plot, theories and basically everything about this show. The actor who plays Miles is great. Mile's sis\",\n",
              " \"This must have been one of the worst movies I have ever seen.<br /><br />I have to disagree with another commenter, who said the special effects were okay. I found them pretty bad: it just wasn't real\",\n",
              " 'Liam Neeson portrays the Scottish legend Robert Roy Macgregor from the early 18th century. He is a true actor. He captivates the audience with his charisma as he does in all his roles. Jessica Lange i',\n",
              " 'When i watch this movie i too get excited when seen bed scenes of miss world. She has beautiful and charming body. When cute lady do bed scenes and show her fully nude body... i think male have hard t',\n",
              " \"They've shown i twice in a very short time now here in Sweden and I am so very tired of it. The bad acting isn't enough... The story itself is so boring and the effects hardly exists. I love the origi\",\n",
              " \"Having seen Carlo Lizzani's documentary on Luchino Visconti, I was bound to higher expectations before watching this film made three years later by Adam Low. But the viewer like me did get dissatisfie\",\n",
              " \"Time is precious. This film isn't. I must learn to ignore critics who rave about small films like Fargo and this complete waste of time.<br /><br />The theater was packed and everyone left with the sa\",\n",
              " \"worst. movie. ever made. EVER. I have no words to say about it.. other then it truly had no point, no plot, no... anything. sheer crap!!! I don't know how everyone in the movie didn't shoot them shelv\",\n",
              " \"Savage Island (2003) is a lame movie. It's more like a home video shot with very minimal lighting and horrid acting. Not only that the storyline and script was wretched. I don't know why this movie wa\",\n",
              " 'I have to say this is my favorite movie of all time. I have seen it well over 100 times (actually had to buy a new copy as a result of overwatching) It is what the eighties was like and what a romanti',\n",
              " \"I saw it at the Legacy Theater in the Joseph Smith Memorial Building in Salt Lake City this morning. I'm going to assume that one's level of enjoyment during this movie will largely be based on one's \",\n",
              " 'Adenoid Hynkel, a lowly soldier in World War One, rises in subsequent years to become the ruthless dictator of Toumania. He creates an aggressive, antisemitic war machine and cultivates a little tooth',\n",
              " '\"Milo\" is yet another answer to a question nobody ever asked.Do we really need more slashers?I for one think we already have more than enough.I guess the professional tall guys overcharged so in this ',\n",
              " 'This is one of the best horror / suspense films that Hollywood has made in years or maybe even decades.Even though in my opinion this movie was predictable in parts, it has everything that a good film',\n",
              " \"Never saw the original movie in the series...I only hope it was a much better movie than this or the sequel made in the 1980's as if it is not how were these two terrible sequels even justified. This \",\n",
              " 'Created in 1928, and originally named Mortimer before Walt Disney changed his name (because his wife convinced him), Mickey Mouse has become the staple of the Disney brand. I always thought this carto',\n",
              " \"Highly regarded at release, but since rather neglected. Immense importance in the history of performing arts. A classic use of embedded plots. One of my favourite films. Why hasn't the soundtrack been\",\n",
              " 'The perfect murder is foiled when a wife(played by Mary Ellen Trainor, once the wife to director Robert Zemeckis, who helmed this episode), who murders her husband with a poker, has the misfortune of ',\n",
              " \"The IMDb plot summary in no way describes the essence of this film. It should have read 'Be prepared to be catapulted back to the prison of the 3rd pew from the back of your family's church at 8 years\",\n",
              " \"TESS OF THE STORM COUNTRY is possibly the best movie of all of Mary Pickford's films. At two hours, it was quite long for a 1922 silent film yet continues to hold your interest some 80 years after it \",\n",
              " 'I first saw this movie when I was about 10 years old. My mom bought it at our local Kmart because it was on sale for $5 on VHS. She thought that it would be a nice Christmas movie for me and my brothe',\n",
              " 'Although there are some snippets in this 4-part documentary hinting at the necessity for recreational drug law reform, these are not very well-developed, in contrast to the many snippets from those wh',\n",
              " \"Considering this film was released 8 years before I was born, I don't feel too bad for over-looking it for such a long time. Back in January of 98 though, I attended the Second Annual Quentin Tarantin\",\n",
              " 'The movie was actually a romantic drama based on three sisters who had desires to become a famous girl group. In their endeavors, the oldest sister meets a drug dealer and street hustler called Satin,',\n",
              " 'First, I realize that a \"1\" rating is supposed to be reserved for the worst of the worst. This movie gets that from me because, as one reviewer points out, it\\'s not bad in a self-aware, over-the-top s',\n",
              " 'Picture the scene where a bunch of scriptwriters sit around a table and one says \"lets have a black woman approach an unsuspecting member of the public (also black) in the street and ask him if he is ',\n",
              " 'The year 2005 saw no fewer than 3 filmed productions of H. G. Wells\\' great novel, \"War of the Worlds\". This is perhaps the least well-known and very probably the best of them. No other version of WotW',\n",
              " \"Of the elements that make this the best at this point, I have to say #1 is Christine McIntire. Shemp's scene when poisoned and her reaction are truly magnificent. I imagine that, as one poster suggest\",\n",
              " 'Okay this is stupid,they say their not making another Nightmare film,that this is the \"last\" one...And what do they do?They go on making another one,not that the next one (part7) was BAD,but why do th',\n",
              " \"Everyone, my name may sound weird, but there was nothing else! <br /><br />Any way, I haven't seen anything like this before so it was crazy! Of course that's a good thing. It is a humorously interest\",\n",
              " 'Finally was there released a good Modesty Blaise movie, which not only tells a story, but actually tells the \"real\" story. I admit that it is a bad movie if you expect an action thriller, but if you s',\n",
              " \"By now, the game's stale, right?<br /><br />The jokes have been done. Its all over. The creative genius which drove this game for the first two games was gone, after all.<br /><br />Wrong.<br /><br />\",\n",
              " \"I decided to watch this movie because I'd not seen Carol Lombard before in any movie. I'm sorry it had to be this one because, quite frankly, this is a dog \\x96 and even with Jimmy Stewart and Charles Co\",\n",
              " \"Unfortunately the only spoiler in this review is that there's nothing to spoil about that movie.Even if B. Mattei had never done any master piece he use to do his job with a bit of humor and craziness\",\n",
              " 'I Enjoyed Watching This Well Acted Movie Very Much!It Was Well Acted,Particularly By Actress Helen Hunt And Actors Steven Weber And Jeff Fahey.It Was A Very Interesting Movie,Filled With Drama And Sus',\n",
              " 'Hypothetical situations abound, one-time director Harry Ralston gives us the ultimate post-apocalyptic glimpse with the world dead, left in the streets, in the stores, and throughout the landscape, sa',\n",
              " \"<br /><br />I must admit, I was expecting something quite different from my first viewing of 'Cut' last night, though was delighted with the unexpected Australian horror gem. I am a true horror fan as\",\n",
              " \"I am so happy not to live in an American small town. Because whenever I'm shown some small town in the States it is populated with all kinds of monsters among whom flesh hungry zombies, evil aliens an\",\n",
              " 'Like anyone else who bought this, I was duped by the \"20 pieces of extreme gore\" and \"banned in 20 countries\" or whatever it says in the box. I have to admit I am a huge gore fan and I am always amaze',\n",
              " 'I always felt that Ms. Merkerson had never gotten a role fitting her skills. Familiar to millions as the Lt. on Law and Order, she has been seen in a number of theatrical releases, always in a support',\n",
              " 'This will not likely be voted best comedy of the year, a few too many coincidences and plot holes. However we are talking about a movie where a hit-man and a white bread salesman become buddies so a f',\n",
              " \"As a casual listener of the Rolling Stones, I thought this might be interesting. Not so, as this film is very 'of its age', in the 1960's. To me (someone born in the 1980's) this just looks to me as h\",\n",
              " \"Watch the Original with the same title from 1944! This made for TV movie, is just god-awful! Although it does use (as far as I can tell) almost the same dialog, it just doesn't work! Is it the acting,\",\n",
              " 'Director Don Siegel really impressed me with this film. It is starkly shot, graphic without being visually graphic, well-acted by all concerned, and covers some of the most taboo issues of any day in ',\n",
              " 'Anyone who lived through the ages of Revenge of the Nerds and Girlpower will appreciate this film. It is one of those films that delivers everything you want in a \"spring break movie\" PLUS it makes fu',\n",
              " 'Arguably the finest serial ever made(no argument here thus far) about Earthman Flash Gordon, Professor Zarkov, and beautiful Dale Arden traveling in a rocket ship to another universe to save the plane',\n",
              " \"I have to say that the events of 9/11 didn't hit me until I saw this documentary. It took me a year to come to grips with the devastation. I was the one who was changing the station on the radio and c\",\n",
              " \"Perfect movies are rare. Even my favorite films tend to have flaws - Rear Window looks a little stagey at times, Chris Elliot's character in Groundhog Day doesn't work, the music score in Best Years o\",\n",
              " 'This has to be one of the 5 worst movies ever made. The plot looked intriguing like that of Passenger 57. But with the latter movie it somehow worked a lot better. The plot has been worked out in the ',\n",
              " \"regardless of what anyone says, its a b-movie, and the effects are poorly done.. if you're a vampire fanatic, I suppose it would be OK, not 10 out of 10, you others here cant sincerely mean that?. we \",\n",
              " 'I want very much to believe that the above quote (specifically, the English subtitle translation), which was actually written, not spoken, in a rejection letter a publisher sends to the protagonist, w',\n",
              " \"It's hard to praise this film much. The CGI for the dragon was well done, but lacked proper modelling for light and shadow. Also, the same footage is used endlessly of the dragon stomping through corr\",\n",
              " \"I remember going to see the movie in the summer of '78 with my parents, and being pretty into it at the time. Of course, I was seven at the time.<br /><br />Right before the Jackson movies came out, m\",\n",
              " 'Just finished watching 2FTM. The trailers intrigued me so much I actually went to see it on opening weekend, something I never do. Needless to say I was very disappointed. The story has so much potent',\n",
              " 'I was watching the sci-fi channel when this steaming pile of crap came on. While not as bad as Wynorski\\'s \"Curse of the Komodo\", this still sucks...BAD. Wynorski uses the same island as in \"Curse of t',\n",
              " \"I only heard about Driving Lessons through the ITV adverts, and to be honest, I didn't know how much I would like it. I switched on the TV last night and was totally surprised. Driving Lessons is a mo\",\n",
              " \"For Greta Garbo's first talking picture, MGM wisely chose Eugene O'Neill's Pultizer Prize winning 1921 play ANNA Christie. <br /><br />Also wisely, the producers backed Garbo up with not one but two m\",\n",
              " 'Let me set the scene. It is the school holidays and there is absolutely nothing at the movies. I am with my friend deciding what to see. We look for a movie that is starting soon and \"The Grinch\" come',\n",
              " 'As a long-time fan of all the Star Trek series,I found this a disappointing episode, and I wonder if the liberal use of \"flashbacks\" featuring Will Riker\\'s exploits, both positive (and largely romanti',\n",
              " 'This TV-series was one of the ones I loved when I was a kid. Even though I see it now through the pink-shaded glasses of nostalgia, I can still tell it was a quality show, very educational but still f',\n",
              " 'Fans of the HBO series \"Tales From the Crypt\" are going to love this MOH episode. Those who know the basic archetypal stories that most of the classic EC comics were based on, will recognize this one ',\n",
              " \"Dirty War is absolutely one of the best political, government, and well written T.V. Drama's in the 25 years.<br /><br />The acting is superb, the writing is spectacular.<br /><br />Diry War reveals t\",\n",
              " 'Some may go for a film like this but I most assuredly did not. A college professor, David Norwell, suddenly gets a yen for adoption. He pretty much takes the first child offered, a bad choice named Ad',\n",
              " \"This is the Who at their most powerful. Although before the masterwork Who's Next, which would provide anthems like Baba O'reily and Wont Get Fooled Again. This film shows the group in transition from\",\n",
              " 'This filmmaker wanted to make a movie without having a story to tell -- and did so. Really awful jumble of unlikely/unexplained coincidences and unidentifiable plot line, all without character or clea',\n",
              " 'They filmed this movie out on long Island, where I grew up. My brother and his girlfriend were extras in this movie. Apparently there is some party scene where they are all drinking beer, (which they ',\n",
              " \"That's how Burt Reynolds describes this film, which happens to be his best ever. He plays Tom Sharky, a vice detective who's on the trail of an international mobster (Vittorio Gassman) and the man he'\",\n",
              " 'Human Traffic is a view into an average weekend for a group of friends, it is a fly-on-the-wall view into their lives (and minds) which will show you how this group of friends relate to each other. Th',\n",
              " 'This early Biograph short was so much fun to watch. The second on disc one of D.W. Griffith\\'s \"Years of Discovery\" DVD set (highly recommended) it features three excellent performances by the main lea',\n",
              " 'Baba - Rajinikanth will never forget this name in his life. This is the movie which caused his downfall. It was released with much hype but crashed badly and laid to severe financial losses for its pr',\n",
              " 'Written by Oliver Stone and directed by Brian De Palma, SCARFACE paints a picture not easily forgotten. Al Pacino turns in a stunning performance as Tony Montana, a Cuban refugee than becomes a powerf',\n",
              " \"First, the CGI in this movie was horrible. I watched it during a marathon of bad movies on the SciFi channel. At the end when the owner of the park gets killed, it's probably one of the worst examples\",\n",
              " 'I enjoyed it. There you go, I said it again. I even bought this movie on DVD and enjoyed it a couple of more times. Call me old fashioned but I prefer movies like this to garbage like Die Hard 4 which',\n",
              " \"What a waste of talent. A very poor, semi-coherent, script cripples this film. Rather unimaginative direction, too. Some VERY faint echoes of _Fargo_ here, but it just doesn't come off.\",\n",
              " \"Although it strays away from the book a little, you can't help but love the atmospheric music and settings.<br /><br />The scenes in Bath are just how they should be. Although if you have watched it a\",\n",
              " 'Mario Lewis of the Competitive Enterprise Institute has written a definitive 120-page point-by-point, line-by-line refutation of this mendacious film, which should be titled A CONVENIENT LIE. The webs',\n",
              " \"A lovely little film about the introduction of motion pictures to China. Captures the amazement of film's first audiences pretty much as it's described to have been worldwide, and uses actual Lumiere \",\n",
              " \"Sigh. I'm baffled when I see a short like this get attention and assignments and whatnot. I saw this film at a festival before the filmmaker got any attention and forgot about it immediately afterward\",\n",
              " \"Cute idea... salesgirl Linda Smith (Yolande Donlan) inherits a teeny tiny little county of Lampidorra. That country, which wasn't even in North America, was made the 49th state... (of course, there we\",\n",
              " 'Back in 1982 a little film called MAKING LOVE shocked audiences with its frank and open depiction of a romantic love story that just happened to be about two men.<br /><br />I have been waiting for ye',\n",
              " 'The concept of having Laurel & Hardy this time in the role of chimney sweepers works out surprisingly hilarious. It guarantees some funny situations and silly antics, from especially Stan Laurel of co',\n",
              " 'This movie came as a huge disappointment. The anime series ended with a relatively stupid plot twist and the rushed introduction of a pretty lame villain, but I expected Shamballa to tie up all the lo',\n",
              " \"Maybe I loved this movie so much in part because I've been feeling down in the dumps and it's such a lovely little fairytale. Whatever the reason, I thought it was pitch perfect. Great, intelligent st\",\n",
              " 'I was surprised that \" Forgiving the Franklins \" did not generate more buzz at this years Sundance Film Festival. There were times that the laughter at the screening I saw was so loud that you could b',\n",
              " 'They must issue this plot outline to all wannabe filmmakers arriving at the Hollywood bus station. They then fill in the blanks and set their story in whatever hick town or urban ghetto from which the',\n",
              " \"I watched this movie so that you don't have to! I have great respect for Kris Kristofferson, but what was he thinking? He did this for scale? <br /><br />At least the film's title practices truth in a\",\n",
              " \"Just saw this movie on opening night. I read some other user comments which convinced me to go see it... I must say, I was not impressed. I'm so unimpressed that I feel the need to write this comment \",\n",
              " \"I went to see this movie (actually I went to see Family Portraits, which contains Cutting Moments + 2 other short films by Douglas Buck) at the Mar del Plata festival (Argentina)... I just couldn't wa\",\n",
              " \"A well-made run-of-the-mill movie with a tragic ending. Pluses: The way the story moves - begins with Soorya struggling to live followed by a long flashback about why he's there. The Music. A disinter\",\n",
              " \"I don't understand the positive comments made about this film. It is cheap and nasty on all levels and I cannot understand how it ever got made.<br /><br />Cartoon characters abound - Sue's foul-mouth\",\n",
              " \"Steven what have you done you have hit an all new low. It is weird since Steven's last film shadow man was directed by the same director who did this trash. Shadow man was good this was diabolically b\",\n",
              " \"A call-girl witnesses a murder and becomes the killer's next target. Director Brian De Palma is really on a pretentious roll here: his camera swoops around corners in a museum (after lingering a long \",\n",
              " '*Flat SPOILERS* <br /><br />Five med students, Nelson (Kiefer Sutherland), David Labraccio (Kevin Bacon), Rachel Mannus (Julia Roberts), Joe Hurley (William Baldwin) & Randy Steckle (Oliver Platt) dec',\n",
              " \"One of my favorite shows back in the '70s. As I recall it went to air on Friday (or possibly Saturday)night on the Nine Network (?) here in Australia. Darren McGavin and Simon Oakland were great toget\",\n",
              " 'I think my summary says it all. This MTV-ish answer to the classic Candid Camera TV show features a Gen X (or is that Gen Y) type putting in false choppers and wearing various hats and wigs and glasse',\n",
              " \"Frownland is like one of those intensely embarrassing situations where you end up laughing out loud at exactly the wrong time; and just at the moment you realize you shouldn't be laughing, you've alre\",\n",
              " \"I saw this movie while surfing through infomercials and late-night 80's sitcoms on tv one night at 2 in the morning. I must say, I didn't expect much, and I didn't get much. Although Rose McGowan is h\",\n",
              " 'I first saw this film when I was about 8 years old on TV in the UK (where it was called \"Laupta: The Flying Island\"). I absolutely loved it, and was heartbroken when it was repeated a while later and ',\n",
              " 'This film can\\'t make up its mind whether its message is \"humans are evil and bad and animals are sweet and blameless\" or \"don\\'t ever go in the water again.\" A fisherman (Nolan) is out to nab a killer ',\n",
              " \"Why, o' WHY! ...did I pick this one up? Well... i needed a no-brainer in the summer heat, and the cover looked cool.<br /><br />Of course I should've known better. This is a really, really bad movie. \",\n",
              " 'Only a very small child could overlook the absurdities in this bomb; the first difficulty faced by the submarine \"Seaview\" is what appear to be chunks of--rock? falling down through the water and cras',\n",
              " \"Our teacher showed us this movie in first grade. I haven't seen it since. I just watched the trailer though. Does this look like a first grade movie to you? I don't think so. I was so horrified by thi\",\n",
              " \"A plot that fizzled and reeked of irreconcilable differences in opinions constituted a judgmental havoc with one side pro-life and the other a destroyer of a demon's seed. The horror was left out and \",\n",
              " \"Scott Menville is not Casey Kasem. That is the first, most important, and most disturbing thing about this attempt at re-imagining Scooby-Doo and company.<br /><br />Shaggy's voice is squeaky and does\",\n",
              " 'I often wonder how movies like this even get made, and the most shocking part is that people actually pay to watch them.<br /><br />With Aksar it appears as though the director made up the story as he',\n",
              " 'This movie is an amazing comedy.. the script is too funny.. if u watch it more than once you will enjoy it more. Though the comedy at times is silly but it really makes u laugh!! Salman Khan and Aamir',\n",
              " 'Even this early in his career, Capra was quite accomplished with his camera-work and his timing. This is a thin story -- and quite predictable at times -- but he gets very good performances out of his',\n",
              " 'Uwe Boll slips back in his film-making skills once again to offer up a scifi horror tale of mercenaries and reporters taking on super soldiers on a remote island. An okay cast headed by the excellent ',\n",
              " 'This video is so hilariously funny, it makes everything else<br /><br />by Eddie Murphy seem very disappointing (even Beverly Hills Cop and The Nutty Professor, which just goes to show you how good th',\n",
              " 'This film is dreadful. It has absolutely zero laughs. Hebrew Hammer (Adam Goldberg) sets out to save Hannukah from Evil Santa (Andy Dick). Perhaps a promising enough basis for a plot, in actual fact t',\n",
              " \"It's amazing that such a cliche-ridden yuppie angst film actually got made in the first place. The characters are so weak, and the acting so uninspired, that it's impossible to care about any of them-\",\n",
              " \"I never watched the 'Next Action Hero' show, and until reading the other comments here, did not know that this movie was the 'prize' from that competition. I was just flipping channels and came across\",\n",
              " \"I am a big fan of old horror movies, and since I am middle aged, old to me is a movie made before 1970 with most being made in the 1920's to 1960's period. I am not a big fan of more modern horror mov\",\n",
              " 'I just wanted to say that. I love Gheorghe Muresan, so I automatically loved this movie. Everything else about it was so-so... Billy Crystal is a good actor, even if he is annoying. But the thing that',\n",
              " \"I thought that this movie was incredible. I absolutely loved it, even though my brothers didn't that much. The special effects were outstanding, and this movie is about my favorite sport; golf. The on\",\n",
              " 'This is a funny film and I like it a lot. Cary Elwes plays Robin Hood to a tee. This is, of course, the usual good vs evil with Robin against the evil Sheriff of Nottingham. The humor is sort of in yo',\n",
              " 'Some here have commented that this is the WORST Elvis movie ever made. Well, they are only partly right. For me, this IS THE WORST MOVIE EVER MADE PERIOD! I have never seen anything so basely crude, a',\n",
              " \"First of all yes I'm white, so I try to tread lightly in the ever delicate subject of race... anyway... White People Hating Black people = BAD but Black People Hating White people = OK (because appare\",\n",
              " 'Donald Pleasance and Peter Cushing united in one horror film; that always sounds like a terrific plan. Two of the most versatile cult actors of their generation, who previously already starred togethe',\n",
              " \"The three shorts included on this compilation issued in 1959 are timeless Chaplin classics, nothing wrong with them and nothing to criticize either. Chaplin's score for these films and the framework a\",\n",
              " \"1979's Tourist Trap is a clever, unique B thriller that stands out as one of the best of it's kind.<br /><br />Travellers stop at a lonely wax museum where the owner's mannequins are a little too life\",\n",
              " 'Years ago I saw The Godfather and it made a lasting impression on me, the atmosphere of the movie was first class, the acting memorable and the storyline a classic. Recently I bought the Trilogy and a',\n",
              " \"This little two-person movie is actually much bigger than it looks. It has so many layers. I've watched it over and over, and always pick up on something new. I am amazed at the depth of the acting, a\",\n",
              " 'UK newspaper reviews seem to have concentrated on the fact that the reviewers tend to know Toby Young, the journalist on whose real-life experiences this movie is based. The key word here is \"based\". ',\n",
              " 'Alien Hunter: 5 out of 10: Is it me or does every movie that starts in Roswell, New Mexico suck. Take Alien mixed with The Thing, mixed with Contact, mixed with of all things On the Beach, The Androme',\n",
              " 'I have a hard time putting into words just how wonderful this was. Once in a while you see a film that just sticks with you. \"You Are Alone\" is that movie (for me). The film is constantly in my head a',\n",
              " \"I love this young people trapped in a house of horrors movie. Not just because I'm a huge Linnea Quigley-Jill Terashita fan, but because it is a lot of fun and actually scary at times.<br /><br />The \",\n",
              " 'i saw the film and i got screwed, because the film was foolish and boring. i thought ram gopal varma will justify his work but unfortunately he failed and the whole film got spoiled and they spoiled \"',\n",
              " 'Lorna Green(Janine Reynaud)is a performance artist for wealthy intellectuals at a local club. She falls prey to her fantasies as the promise of romantic interludes turn into murder as she kills those ',\n",
              " 'This outing of Knotts includes one of his best sidekicks ever, Frank Welker. Welker makes the film. Knotts and Welker compete for the laughs and both receive plenty. Knotts works for a small \"no where',\n",
              " \"Emma is a horribly flawed film based on Jane Austens classic novel. I have not read the book so I really didn't know that much about the plot, and yet I still predicted nearly the entire plot. There w\",\n",
              " \"Why do I hate this? Let me list the ways:<br /><br />I have nothing against Mary Pickford but a 32 year old woman playing a 12 year old is just stupid.<br /><br />There's a fight scene in which kids a\",\n",
              " \"Thank God this wasn't based on a true story, because what a story it is. Populated by despicable characters whose depravity knows no bounds, Before The Devil is a mesmerizing, jaw-dropping excursion i\",\n",
              " \"If you want just about everything you want to know about WWII from multiple perspectives, this DVD delivers, you WILL learn new things guaranteed, so much so that you won't need any other documentary'\",\n",
              " 'The movie was gripping from start to finish and its b/w photography of the American heartland is stunning. We feel we are right there with them as they cross the big sky country and then into Mexico a',\n",
              " 'This is a great show with total freshness and innovation. That usual chair (couch for a woman) host, that mandatory band playing monotonous tunes, the same old jokes, the same pattern copied from the ',\n",
              " \"It's all about getting what you want when you want it. And the message of Bluebeard's Eighth WIfe is to be careful what you wish for, until what you wish for wishes for you.<br /><br />Most men have h\",\n",
              " \"Now i have read some negative reviews for this show on this website and quite frankly I'm appalled. For anyone to even think that the Sopranos is not Television then i'm afraid i don't know what the w\",\n",
              " \"I'd give this a negative rating if I could. I went into this movie not expecting much, but I had an open mind. The whole thing is stupid! The snakes are obviously fake and the first two things they bi\",\n",
              " 'Most people are totally unaware that this movie exists. Fox, which paid Judge to make it, has kept it in the can for quite awhile and then spent nothing to promote it. I guess that made many people th',\n",
              " \"This is a great, ridiculous horror movie that captures the essence of the mid to late 80s' obsession with how evil metal music supposedly was. I can remember being freaked out by metal teens when I wa\",\n",
              " 'While not quite as good as A Murder is Announced, which was not only delightful but almost surpassed the book, this is an excellent adaptation. And you know what, it is a huge improvement on the Geral',\n",
              " \"Good Lord, what were they THINKING??!!!!!! Here is your spoiler warning, even though I don't think it'll really matter. You won't be seeing this piece of trash anyway.<br /><br />A group of handpuppet\",\n",
              " 'I had heard (and read) so many good things about Weeds that I was looking forward to getting hooked on another great cable Series (like Entourage, Sopranos or Mad Men) but that slowly eroded away with',\n",
              " 'This movie is among my favorite foreign films, some of the others are Amilee and My Life As a Dog. The similarities with those movies as with so many great foreign films, is that it takes a mundane sl',\n",
              " 'As if the film were not of value in itself, this is an excellent way to get an overview of the novel as a preface to reading it. In the summer of 1968 I saw the film in NYC; that fall in graduate scho',\n",
              " 'This film is a lyrical and romantic memoir told through the eyes an eleven year old boy living in a rural Cuban town the year of the Castro revolution. It is an obviously genuine worthy labor of love.',\n",
              " \"I saw ZP when it was first released and found it a major disappointment. Its script seemed forced and arch and too fakey '60s. It's politics too upfront and ridiculous. And let's face it, I was still \",\n",
              " 'Very strange but occasionally elegant exploitation movie with no real story, but benefiting from its stunningly ravishing lead actress and a handful of nice, gruesome make-up effects. Daniella is a be',\n",
              " \"This is an interesting, hard to find movie from the early 70's starring Jan Michael Vincent as a young man who doesn't make the cut as a marine. Dressed in 'baby blue' outfits to humiliate them as the\",\n",
              " \"Johnny and June Carter Cash financed this film which is a traditional rendering of the Gospel stories. The music is great, you get a real feel of what the world of Jesus looked like (I've been there t\",\n",
              " \"Jäniksen vuosi is one of Jarva's most political movies. It takes stance strongly against modern day society's authority status in the life of the common man, and how it has estranged men from the natu\",\n",
              " 'I love Jamie Foxx.<br /><br />And I enjoy 99% of all movies I see.<br /><br />And I walked out of this one.<br /><br />Now, I admit, it may have had something to do with the two middle-aged white wome',\n",
              " 'After seeing Dick Tracy in the 6.99$ bin at Future Shop I decided to give it a go with no previous knowledge and being a big fan of Mafia and Crime movies. I was very surprised to see a very fun, smar',\n",
              " 'Send them to the freezer. This is the solution two butchers find after they discover the popularity of selling human flesh. An incredible story with humor and possible allegories that make it much mor',\n",
              " \"Wow! I picked this off the rental shelf because I loved Robert Carlyle and Jonny Lee Miller in 'Trainspotting.' This is a phenomenal movie; it has action, romance, suspense, intrigue and wit. When I w\",\n",
              " \"I don't know why some people criticise that show so much.<br /><br />It is a great, funny show - probably not the right material for mainstream prime-time, but still...<br /><br />The family dynamics \",\n",
              " 'Mexican Werewolf in Texas is set in the small border town of Furlough where Anna (Erika Fay) lives, her best friend is Rosie (Martine Hughes) & she has a Mexican boyfriend named Miguel (Gabriel Gutier',\n",
              " \"I found this to be a surprisingly light-handed touch at a 1950's culture-clash movie. John Wayne would hardly be one's first choice as a cultural attache, being about as diplomatic with his good inten\",\n",
              " \"I was so glad I came across this short film. I'm always so disappointed that short films are hard to come across, so when I saw this and saw that it was nominated for the Live Action Short Film at the\",\n",
              " 'I thought before starting with these movie that it might be a good one, but when i started with it i found it really awful. They said movie is being made in Afghanistan but i think 95% of the movie is',\n",
              " 'Truly appalling waste of space. Me and my friend tried to watch this film to its conclusion but had to switch it off about 30 minutes from the end. And i can count the films I have switched off before',\n",
              " 'In this movie, Chávez supporters (either venezuelan and not-venezuelan) just lie about a dramatic situation in our country. <br /><br />They did not say that the conflict started because of Chávez ann',\n",
              " 'One could wish that an idea as good as the \"invisible man\" would work better and be more carefully handled in the age of fantastic special effects, but this is not the case. The story, the characters ',\n",
              " \"OK, so it owes Pulp Fiction, but in my opinion has it's own voice and identity mainly because of the music-video direction style, sketch-like narrative and great performances. Thomas Jane delivers gre\",\n",
              " \"As far as I know the real guy that the main actor is playing saw his performance and said it was an outstanding portrayal, I'd agree with him. This is a fantastic film about a quite gifted boy/man wit\",\n",
              " 'All I ever heard while being raised was equality of the sexes, and here we have a film that not only exemplifies imbalance, but continues through with a whole concept that one sex is better. All the w',\n",
              " 'I do regret that I have bought this series. I expected more action, more objective picture and more consistency. This is just a pure propaganda series, very dark, without any charm, or romanticism, it',\n",
              " 'The story has been told before. A deadly disease is spreading around... But the extra in this film is Peter Weller, his interpretation of Muller on the run is real. He is indeed a desperate person jus',\n",
              " 'This film was very well advertised. I am an avid movie goer and have seen previews for this movie for months. While I was somewhat skeptical of how funny this movie would actually be, my friends thoug',\n",
              " \"As far as I know this was my first experience with Icelandic movies. It's such a relief to see something else than your regular Hollywood motion picture. Too bad that movies like this one have a small\",\n",
              " 'Very typical Almodóvar of the time and, in its own way, no less funny than many of his later works. And why is that? There is nothing to be provoked or shocked about, and I guess any such effect is mo',\n",
              " 'Once again, Doctor Who delivers the goods by the bucket load. It has humour (\"You\\'re just making it up as you go along!\" \"Yup, but I do it brilliantly\"), action, monsters (in this case still more kick',\n",
              " \"A Brother's Promise is a wonderful family film. This is a biography of Dan Jansen, a champion Olympic speed skater. The movie depicts this athlete's life from a young age through full adulthood. The l\",\n",
              " 'Well...now that I know where Rob Zombie stole the title for his \"House of 1,000 Corpses\" crapfest, I can now rest in peace. Nothing about the somnambulant performances or trite script would raise the ',\n",
              " 'Director Sidney Lumet has made some masterpieces,like Network,Dog Day Afternoon or Serpico.But,he was not having too much luck on his most recent works.Gloria (1999) was pathetic and Find Me Guilty wa',\n",
              " 'I took my 14 year old to see this movie. We left after 15 or 20 minutes. It was absolutely awful! This movie should be rated R at the least. I am not that strict with movies but, this was just too muc',\n",
              " 'I loved this film. I thought it would be easy to watch, and easy to forget. I ran out after watching this to buy the DVD, obv not easily forgotten!<br /><br />The script is brilliant, and the casting ',\n",
              " \"It's not easy to find Judas Kiss on VHS (it's not available on DVD), but I wanted to add this rather obscure movie to my Alan Rickman movie collection.<br /><br />I can't understand how the talented M\",\n",
              " 'First of all, I should point out that I really enjoyed watching this documentary. Not only it had great music in it, but the shots and the editing were also wonderful. However, all these positive thin',\n",
              " 'STMD! is not a terrible movie, but it IS quite forgettable. The lighting is intentionally poor in many scenes and unintentionally poor in all the rest, so you are likely to come out of a viewing with ',\n",
              " 'First off, I have no idea how this movie made it to the big screen. Its not even the low budget SCI-Fi channel movie, its just awful. Me and my friend who love action movies, Independence day, Jurassi',\n",
              " 'i am not exactly how sure the accuracy is with this movie, but i can tell you that i was thoroughly entertained by this movie. the character of gust,played perfectly by Phillip Seymour Hoffman, was on',\n",
              " 'I must have seen this a dozen times over the years. I was about fifteen when I first saw it in B & W on the local PBS station.<br /><br />I bought a DVD set for the children to see, and am making them',\n",
              " \"Steven Seagal's films of late have not exactly been good, but this is by far the worst since The Patriot. The plot makes no sense what so ever; it is never clear in what the relationships between the \",\n",
              " \"and I for one think that is a good thing. I've just never been a Rosalind Russell fan although the original was my favorite RR movie. But I love Bette and was thrilled to hear she was making this.<br \",\n",
              " 'So real and surreal, all in one. I remember feeling like Tessa. Heck, I remember being Tessa. This was a beautiful vignette of a relationship ending. I especially liked the protesters tangent. It is n',\n",
              " \"Thank God I watched this at a friend's place and did not pay for it. The plot is horribly transparent and the whole movie felt like an episode of a TV show. If you have any knowledge of computers or e\",\n",
              " 'A friend lent me this DVD, which he got from the director at a festival, I think. I went in warned that some of the technical aspects of the movie were a bit shaky and that the writing was good but no',\n",
              " 'Shawshank, Godfather, Pulp Fiction... all good films. Great films. But nothing, and I mean nothing lives up to the greatest Christmas movie of all, Santa Claus.<br /><br />The film is so great and has',\n",
              " 'I really cant think of anything good to say about this film...not a single thing. The script is a nightmare.. the writer blurs the line between chemical and biological traits and doesnt seem to unders',\n",
              " \"Cinema's greatest period started in post-War Europe with Italy's Neo-Realist movement. During the next 2 or 3 decades that followed, France's New Wavers caught everyone's attention, and there was alwa\",\n",
              " 'This is a stereotype plot. A young fighter tries to enter a competition when he is not ready and is not selected to represent his fighting school. This leads to separation from the fighting school and',\n",
              " \"This production was quite a surprise for me. I absolutely love obscure early 30s movies, but I wasn't prepared for the last 25 minutes of this story. If, by any chance, you're not convinced in the fir\",\n",
              " \"It isn't TOO bad, but ultimately it lacks the quality that the Australian series has.<br /><br />The jokes are few and far between, the actors are attractive (they shouldn't be), the film makers think\",\n",
              " \"From the decrepit ranks of the already over-saturated 'Hillybilly Horror' sub-genre comes this woeful tale of a vacationing family terrorized by inbred rednecks. Sound familiar? Well it most definitel\",\n",
              " 'As a huge baseball fan, my scrutiny of this film is how realistic it appears. Dennis Quaid had all of the right moves and stances of a major league pitcher. It is a fantastic true story told with just',\n",
              " \"This film takes you on one family's impossible journey, and makes you feel every step of their odyssey. Beautifully acted and photographed, heartbreakingly real. Its last line, with its wistful hope, \",\n",
              " \"Stupid! Stupid! Stupid! I can not stand Ben stiller anymore. How this man is allowed to still make movies is beyond me. I can't understand how this happens if I performed at work the way he acts in a \",\n",
              " 'This show is great for many reasons..The father and mother can communicate with their kids this day in age. Its so great to see a real family instead of some stuffy overacting family. I watched this o',\n",
              " 'This film is where the Batman franchise ought to have stopped. Though I will concede that the ideas behind \"Batman Forever\" were excellent and could have been easily realised by a competent director, ',\n",
              " 'The Quick and the Undead is, finally, the first movie to actually render its own storyline null and void. It is, essentially, one gigantic plot hole.<br /><br />Aside from that, the acting was quite b',\n",
              " \"I was stunned by this film. Afterwards, I didn't even want to see any films for a long time- any other film would be so unsatisfying by comparison.<br /><br />For many, it may be the worst of Antonion\",\n",
              " 'Am I the only person who thinks that the entire Forensics and Scenes Of Crime community in the USA must detest this almighty slap in their faces. A rookie cop is first to a crime scene where her back ',\n",
              " 'The one of the most remarkable sci-fi movies of the millennium. Not only a movie but an incredible future vision, this movie establishes a new standard of s/f movies. hail and kill!',\n",
              " \"This is the second Hitchcock film to appear on the list and the second Hitchcock film I've seen in full, the first was Rope, which I really enjoyed. With Saboteur Hitchcock was more room to roam free,\",\n",
              " 'It is always difficult to bring a 450 pages book down to a three hours film. I read the book before, and I found the BBC production dealing with this difficulty in the best way possible. The qualities',\n",
              " 'This is one of my all time favorite cheap, corny, vampire B movies. <br /><br />Calvin Klein underwear model...oh, I mean, Stefan the Good Vampire, returns to Transylvania to ascend the throne of Vamp',\n",
              " 'Let me first off say that I am a believer of ghosts, and I do indeed know they exist. I have had enough experiences with them to know they are there.<br /><br />What I hate is the people who bring the',\n",
              " \"For a long time, 'The Menagerie' was my favorite 'Star Trek' episode though in recent years it has been eclipsed by 'City on the Edge of Forever.' What I used to prefer about 'Menagerie' was that it's\",\n",
              " 'Coen Brothers-wannabe from writer-director Paul Chart relies far too much on ideas lifted from other (better) movies, yet does manage to create a creepy atmosphere that keeps one watching. Robert Fors',\n",
              " 'When it was released this film caused a sensation. I watched it and was thrilled. Beautiful, usually young, naked women filmed in the classy style we knew so well from director Hamiltons photography. ',\n",
              " \"Largely forgettable tale in which mercenary Kerman & employer Agren travel into the jungle in search of Agren's missing sister.<br /><br />Despite its connection to the cannibal movie family, this fil\"]"
            ]
          },
          "metadata": {
            "tags": []
          },
          "execution_count": 10
        }
      ]
    },
    {
      "cell_type": "markdown",
      "metadata": {
        "id": "PyW1yGM7051I"
      },
      "source": [
        "#Cleaning the text by removing punctuations and converting all the words to lower"
      ]
    },
    {
      "cell_type": "code",
      "metadata": {
        "colab": {
          "base_uri": "https://localhost:8080/"
        },
        "id": "4UGwmBmaK8Io",
        "outputId": "33c31936-75e3-4c05-dd85-da368c861a5a"
      },
      "source": [
        "def clean_text(txt):\r\n",
        "    txt = \"\".join(v for v in txt if v not in string.punctuation).lower()\r\n",
        "    txt = txt.encode(\"utf8\").decode(\"ascii\",'ignore')\r\n",
        "    return txt \r\n",
        "\r\n",
        "corpus = [clean_text(x) for x in all_headlines]\r\n",
        "corpus[:10]"
      ],
      "execution_count": 12,
      "outputs": [
        {
          "output_type": "execute_result",
          "data": {
            "text/plain": [
              "['one of the other reviewers has mentioned that after watching just 1 oz episode youll be hooked they are right as this is exactly what happened with mebr br the first thing that struck me abo',\n",
              " 'a wonderful little production br br the filming technique is very unassuming very oldtimebbc fashion and gives a comforting and sometimes discomforting sense of realism to the entire piece',\n",
              " 'i thought this was a wonderful way to spend time on a too hot summer weekend sitting in the air conditioned theater and watching a lighthearted comedy the plot is simplistic but the dialogue is wi',\n",
              " 'basically theres a family where a little boy jake thinks theres a zombie in his closet  his parents are fighting all the timebr br this movie is slower than a soap opera and suddenly j',\n",
              " 'petter matteis love in the time of money is a visually stunning film to watch mr mattei offers us a vivid portrait about human relations this is a movie that seems to be telling us what money p',\n",
              " 'probably my alltime favorite movie a story of selflessness sacrifice and dedication to a noble cause but its not preachy or boring it just never gets old despite my having seen it some 15 or mo',\n",
              " 'i sure would like to see a resurrection of a up dated seahunt series with the tech they have today it would bring back the kid excitement in mei grew up on black and white tv and seahunt with gunsmok',\n",
              " 'this show was an amazing fresh  innovative idea in the 70s when it first aired the first 7 or 8 years were brilliant but things dropped off after that by 1990 the show was not really funny anym',\n",
              " 'encouraged by the positive comments about this film on here i was looking forward to watching this film bad mistake ive seen 950 films and this is truly one of the worst of them  its awful in al',\n",
              " 'if you like original gut wrenching laughter you will like this movie if you are young or old then you will love this movie hell even my mom liked itbr br great camp']"
            ]
          },
          "metadata": {
            "tags": []
          },
          "execution_count": 12
        }
      ]
    },
    {
      "cell_type": "code",
      "metadata": {
        "colab": {
          "base_uri": "https://localhost:8080/"
        },
        "id": "V-ST1kMqaEKq",
        "outputId": "1a915d48-76c0-4b7a-a88d-9c035ba5913b"
      },
      "source": [
        "len(corpus)"
      ],
      "execution_count": 13,
      "outputs": [
        {
          "output_type": "execute_result",
          "data": {
            "text/plain": [
              "880"
            ]
          },
          "metadata": {
            "tags": []
          },
          "execution_count": 13
        }
      ]
    },
    {
      "cell_type": "markdown",
      "metadata": {
        "id": "AFet51LQ1PEu"
      },
      "source": [
        "#Performing tokenization"
      ]
    },
    {
      "cell_type": "code",
      "metadata": {
        "colab": {
          "base_uri": "https://localhost:8080/"
        },
        "id": "JdM1YlHmK8FU",
        "outputId": "49b2d01c-3777-4c73-c5ef-7d0b8a84bad6"
      },
      "source": [
        "tokenizer = Tokenizer()\r\n",
        "\r\n",
        "def get_sequence_of_tokens(corpus):\r\n",
        "    ## tokenization\r\n",
        "    tokenizer.fit_on_texts(corpus)\r\n",
        "    total_words = len(tokenizer.word_index) + 1\r\n",
        "    \r\n",
        "    ## convert data to sequence of tokens \r\n",
        "    input_sequences = []\r\n",
        "    for line in corpus:\r\n",
        "        token_list = tokenizer.texts_to_sequences([line])[0]\r\n",
        "        for i in range(1, len(token_list)):\r\n",
        "            n_gram_sequence = token_list[:i+1]\r\n",
        "            input_sequences.append(n_gram_sequence)\r\n",
        "    return input_sequences, total_words\r\n",
        "\r\n",
        "inp_sequences, total_words = get_sequence_of_tokens(corpus)\r\n",
        "inp_sequences[:10]"
      ],
      "execution_count": 14,
      "outputs": [
        {
          "output_type": "execute_result",
          "data": {
            "text/plain": [
              "[[23, 4],\n",
              " [23, 4, 1],\n",
              " [23, 4, 1, 103],\n",
              " [23, 4, 1, 103, 762],\n",
              " [23, 4, 1, 103, 762, 38],\n",
              " [23, 4, 1, 103, 762, 38, 978],\n",
              " [23, 4, 1, 103, 762, 38, 978, 13],\n",
              " [23, 4, 1, 103, 762, 38, 978, 13, 92],\n",
              " [23, 4, 1, 103, 762, 38, 978, 13, 92, 90],\n",
              " [23, 4, 1, 103, 762, 38, 978, 13, 92, 90, 35]]"
            ]
          },
          "metadata": {
            "tags": []
          },
          "execution_count": 14
        }
      ]
    },
    {
      "cell_type": "code",
      "metadata": {
        "colab": {
          "base_uri": "https://localhost:8080/"
        },
        "id": "tavfKxJiXye_",
        "outputId": "3e484f0f-d6d7-4cf9-d12f-5f37bf3cbf63"
      },
      "source": [
        "total_words"
      ],
      "execution_count": 15,
      "outputs": [
        {
          "output_type": "execute_result",
          "data": {
            "text/plain": [
              "6158"
            ]
          },
          "metadata": {
            "tags": []
          },
          "execution_count": 15
        }
      ]
    },
    {
      "cell_type": "markdown",
      "metadata": {
        "id": "aqwncCOh1YbJ"
      },
      "source": [
        "#Padding the sequences to make all of them of the same length"
      ]
    },
    {
      "cell_type": "code",
      "metadata": {
        "id": "KKCqmOZoK8DI"
      },
      "source": [
        "def generate_padded_sequences(input_sequences):\r\n",
        "    max_sequence_len = 92\r\n",
        "    input_sequences = np.array(pad_sequences(input_sequences, maxlen=max_sequence_len, padding='pre'))\r\n",
        "    \r\n",
        "    predictors, label = input_sequences[:,:-1],input_sequences[:,-1]\r\n",
        "    label = ku.to_categorical(label, num_classes=total_words)\r\n",
        "    return predictors, label, max_sequence_len\r\n",
        "\r\n",
        "predictors, label, max_sequence_len = generate_padded_sequences(inp_sequences)"
      ],
      "execution_count": 16,
      "outputs": []
    },
    {
      "cell_type": "code",
      "metadata": {
        "colab": {
          "base_uri": "https://localhost:8080/"
        },
        "id": "nhlZbreWhDAB",
        "outputId": "5f4211c5-f3b8-4bb8-96c3-c5e01b2a3868"
      },
      "source": [
        "max_sequence_len"
      ],
      "execution_count": 17,
      "outputs": [
        {
          "output_type": "execute_result",
          "data": {
            "text/plain": [
              "92"
            ]
          },
          "metadata": {
            "tags": []
          },
          "execution_count": 17
        }
      ]
    },
    {
      "cell_type": "markdown",
      "metadata": {
        "id": "yiKkn3CS1fmt"
      },
      "source": [
        "#Defining the LSTM model"
      ]
    },
    {
      "cell_type": "code",
      "metadata": {
        "colab": {
          "base_uri": "https://localhost:8080/"
        },
        "id": "qIz5EBxQK8BM",
        "outputId": "abc42e55-f925-433f-bd32-63a00df29721"
      },
      "source": [
        "def create_model(max_sequence_len, total_words):\r\n",
        "    input_len = max_sequence_len - 1\r\n",
        "    model = Sequential()\r\n",
        "    \r\n",
        "    # Add Input Embedding Layer\r\n",
        "    model.add(Embedding(total_words, 50, input_length=input_len))\r\n",
        "    \r\n",
        "    # Add Hidden Layer 1 - LSTM Layer\r\n",
        "    model.add(LSTM(300))\r\n",
        "    model.add(Dropout(0.2))\r\n",
        "    #model.add(LSTM(100))\r\n",
        "\r\n",
        "    \r\n",
        "    # Add Output Layer\r\n",
        "    model.add(Dense(total_words, activation='softmax'))\r\n",
        "\r\n",
        "    model.compile(loss='categorical_crossentropy', optimizer='adam', )\r\n",
        "    \r\n",
        "    return model\r\n",
        "\r\n",
        "model = create_model(max_sequence_len, total_words)\r\n",
        "model.summary()"
      ],
      "execution_count": 20,
      "outputs": [
        {
          "output_type": "stream",
          "text": [
            "Model: \"sequential_1\"\n",
            "_________________________________________________________________\n",
            "Layer (type)                 Output Shape              Param #   \n",
            "=================================================================\n",
            "embedding_1 (Embedding)      (None, 91, 50)            307900    \n",
            "_________________________________________________________________\n",
            "lstm_2 (LSTM)                (None, 300)               421200    \n",
            "_________________________________________________________________\n",
            "dropout_1 (Dropout)          (None, 300)               0         \n",
            "_________________________________________________________________\n",
            "dense_1 (Dense)              (None, 6158)              1853558   \n",
            "=================================================================\n",
            "Total params: 2,582,658\n",
            "Trainable params: 2,582,658\n",
            "Non-trainable params: 0\n",
            "_________________________________________________________________\n"
          ],
          "name": "stdout"
        }
      ]
    },
    {
      "cell_type": "markdown",
      "metadata": {
        "id": "344bFAv61k-y"
      },
      "source": [
        "#Fitting the model on the training data"
      ]
    },
    {
      "cell_type": "code",
      "metadata": {
        "colab": {
          "base_uri": "https://localhost:8080/"
        },
        "id": "Dxl4paMpK7_C",
        "outputId": "04f23d97-f5bb-4781-dbfa-e7784dd4cfdc"
      },
      "source": [
        "model.fit(predictors, label, epochs=50, batch_size=100,verbose=1 )"
      ],
      "execution_count": 21,
      "outputs": [
        {
          "output_type": "stream",
          "text": [
            "Epoch 1/50\n",
            "311/311 [==============================] - 6s 20ms/step - loss: 6.9861\n",
            "Epoch 2/50\n",
            "311/311 [==============================] - 6s 20ms/step - loss: 6.6186\n",
            "Epoch 3/50\n",
            "311/311 [==============================] - 6s 20ms/step - loss: 6.4596\n",
            "Epoch 4/50\n",
            "311/311 [==============================] - 6s 20ms/step - loss: 6.2424\n",
            "Epoch 5/50\n",
            "311/311 [==============================] - 6s 20ms/step - loss: 5.9976\n",
            "Epoch 6/50\n",
            "311/311 [==============================] - 6s 20ms/step - loss: 5.7324\n",
            "Epoch 7/50\n",
            "311/311 [==============================] - 6s 20ms/step - loss: 5.4581\n",
            "Epoch 8/50\n",
            "311/311 [==============================] - 6s 20ms/step - loss: 5.1815\n",
            "Epoch 9/50\n",
            "311/311 [==============================] - 6s 20ms/step - loss: 4.9056\n",
            "Epoch 10/50\n",
            "311/311 [==============================] - 6s 20ms/step - loss: 4.6219\n",
            "Epoch 11/50\n",
            "311/311 [==============================] - 6s 20ms/step - loss: 4.3394\n",
            "Epoch 12/50\n",
            "311/311 [==============================] - 6s 20ms/step - loss: 4.0574\n",
            "Epoch 13/50\n",
            "311/311 [==============================] - 6s 20ms/step - loss: 3.7895\n",
            "Epoch 14/50\n",
            "311/311 [==============================] - 6s 20ms/step - loss: 3.5272\n",
            "Epoch 15/50\n",
            "311/311 [==============================] - 6s 20ms/step - loss: 3.2796\n",
            "Epoch 16/50\n",
            "311/311 [==============================] - 6s 21ms/step - loss: 3.0620\n",
            "Epoch 17/50\n",
            "311/311 [==============================] - 6s 21ms/step - loss: 2.8557\n",
            "Epoch 18/50\n",
            "311/311 [==============================] - 6s 21ms/step - loss: 2.6696\n",
            "Epoch 19/50\n",
            "311/311 [==============================] - 6s 21ms/step - loss: 2.5089\n",
            "Epoch 20/50\n",
            "311/311 [==============================] - 6s 21ms/step - loss: 2.3573\n",
            "Epoch 21/50\n",
            "311/311 [==============================] - 6s 20ms/step - loss: 2.2200\n",
            "Epoch 22/50\n",
            "311/311 [==============================] - 6s 20ms/step - loss: 2.0844\n",
            "Epoch 23/50\n",
            "311/311 [==============================] - 6s 20ms/step - loss: 1.9807\n",
            "Epoch 24/50\n",
            "311/311 [==============================] - 6s 20ms/step - loss: 1.8680\n",
            "Epoch 25/50\n",
            "311/311 [==============================] - 6s 20ms/step - loss: 1.7713\n",
            "Epoch 26/50\n",
            "311/311 [==============================] - 6s 20ms/step - loss: 1.6711\n",
            "Epoch 27/50\n",
            "311/311 [==============================] - 6s 20ms/step - loss: 1.5861\n",
            "Epoch 28/50\n",
            "311/311 [==============================] - 6s 21ms/step - loss: 1.4961\n",
            "Epoch 29/50\n",
            "311/311 [==============================] - 6s 20ms/step - loss: 1.4195\n",
            "Epoch 30/50\n",
            "311/311 [==============================] - 6s 21ms/step - loss: 1.3517\n",
            "Epoch 31/50\n",
            "311/311 [==============================] - 6s 21ms/step - loss: 1.2791\n",
            "Epoch 32/50\n",
            "311/311 [==============================] - 6s 21ms/step - loss: 1.2190\n",
            "Epoch 33/50\n",
            "311/311 [==============================] - 6s 21ms/step - loss: 1.1597\n",
            "Epoch 34/50\n",
            "311/311 [==============================] - 6s 21ms/step - loss: 1.1004\n",
            "Epoch 35/50\n",
            "311/311 [==============================] - 6s 21ms/step - loss: 1.0423\n",
            "Epoch 36/50\n",
            "311/311 [==============================] - 6s 21ms/step - loss: 0.9966\n",
            "Epoch 37/50\n",
            "311/311 [==============================] - 6s 21ms/step - loss: 0.9470\n",
            "Epoch 38/50\n",
            "311/311 [==============================] - 6s 21ms/step - loss: 0.8999\n",
            "Epoch 39/50\n",
            "311/311 [==============================] - 6s 20ms/step - loss: 0.8584\n",
            "Epoch 40/50\n",
            "311/311 [==============================] - 6s 21ms/step - loss: 0.8186\n",
            "Epoch 41/50\n",
            "311/311 [==============================] - 6s 21ms/step - loss: 0.7886\n",
            "Epoch 42/50\n",
            "311/311 [==============================] - 6s 21ms/step - loss: 0.7497\n",
            "Epoch 43/50\n",
            "311/311 [==============================] - 6s 21ms/step - loss: 0.7234\n",
            "Epoch 44/50\n",
            "311/311 [==============================] - 6s 21ms/step - loss: 0.6938\n",
            "Epoch 45/50\n",
            "311/311 [==============================] - 6s 21ms/step - loss: 0.6582\n",
            "Epoch 46/50\n",
            "311/311 [==============================] - 6s 21ms/step - loss: 0.6363\n",
            "Epoch 47/50\n",
            "311/311 [==============================] - 6s 21ms/step - loss: 0.6099\n",
            "Epoch 48/50\n",
            "311/311 [==============================] - 6s 21ms/step - loss: 0.5805\n",
            "Epoch 49/50\n",
            "311/311 [==============================] - 6s 20ms/step - loss: 0.5652\n",
            "Epoch 50/50\n",
            "311/311 [==============================] - 6s 21ms/step - loss: 0.5420\n"
          ],
          "name": "stdout"
        },
        {
          "output_type": "execute_result",
          "data": {
            "text/plain": [
              "<tensorflow.python.keras.callbacks.History at 0x7f7fa1d814e0>"
            ]
          },
          "metadata": {
            "tags": []
          },
          "execution_count": 21
        }
      ]
    },
    {
      "cell_type": "markdown",
      "metadata": {
        "id": "3lcU0Zxc1t-l"
      },
      "source": [
        "#Function for generating text using a seed"
      ]
    },
    {
      "cell_type": "code",
      "metadata": {
        "id": "e9wQmz49K77s"
      },
      "source": [
        "def generate_text(seed_text, next_words, model, max_sequence_len):\r\n",
        "    for _ in range(next_words):\r\n",
        "        token_list = tokenizer.texts_to_sequences([seed_text])[0]\r\n",
        "        token_list = pad_sequences([token_list], maxlen=max_sequence_len-1, padding='pre')\r\n",
        "        predicted = model.predict_classes(token_list, verbose=0)\r\n",
        "        \r\n",
        "        output_word = \"\"\r\n",
        "        for word,index in tokenizer.word_index.items():\r\n",
        "            if index == predicted:\r\n",
        "                output_word = word\r\n",
        "                break\r\n",
        "        seed_text += \" \"+output_word\r\n",
        "    return seed_text.title()"
      ],
      "execution_count": 22,
      "outputs": []
    },
    {
      "cell_type": "markdown",
      "metadata": {
        "id": "UbmuFVRa1x95"
      },
      "source": [
        "#Examples of text generation"
      ]
    },
    {
      "cell_type": "code",
      "metadata": {
        "colab": {
          "base_uri": "https://localhost:8080/",
          "height": 106
        },
        "id": "7AKAJpFnK75y",
        "outputId": "8d1758b9-6bf0-430f-a690-143a0cfecf79"
      },
      "source": [
        "generate_text('movie',10 , model, max_sequence_len)"
      ],
      "execution_count": 23,
      "outputs": [
        {
          "output_type": "stream",
          "text": [
            "WARNING:tensorflow:From <ipython-input-22-d8873b000447>:5: Sequential.predict_classes (from tensorflow.python.keras.engine.sequential) is deprecated and will be removed after 2021-01-01.\n",
            "Instructions for updating:\n",
            "Please use instead:* `np.argmax(model.predict(x), axis=-1)`,   if your model does multi-class classification   (e.g. if it uses a `softmax` last-layer activation).* `(model.predict(x) > 0.5).astype(\"int32\")`,   if your model does binary classification   (e.g. if it uses a `sigmoid` last-layer activation).\n"
          ],
          "name": "stdout"
        },
        {
          "output_type": "execute_result",
          "data": {
            "application/vnd.google.colaboratory.intrinsic+json": {
              "type": "string"
            },
            "text/plain": [
              "'Movie I Had To Admit That I Cant Believe It Is'"
            ]
          },
          "metadata": {
            "tags": []
          },
          "execution_count": 23
        }
      ]
    },
    {
      "cell_type": "code",
      "metadata": {
        "colab": {
          "base_uri": "https://localhost:8080/",
          "height": 35
        },
        "id": "ZXexAU0HK73g",
        "outputId": "9342d1f0-2507-4e2d-fe71-06ba831ad8ab"
      },
      "source": [
        "generate_text('production', 20, model, max_sequence_len)"
      ],
      "execution_count": 24,
      "outputs": [
        {
          "output_type": "execute_result",
          "data": {
            "application/vnd.google.colaboratory.intrinsic+json": {
              "type": "string"
            },
            "text/plain": [
              "'Production In The Decrepit Ranks Of The Already Oversaturated Hillybilly Horror Subgenre Comes This Woeful Tale Of A Vacationing Family Terrorized'"
            ]
          },
          "metadata": {
            "tags": []
          },
          "execution_count": 24
        }
      ]
    },
    {
      "cell_type": "code",
      "metadata": {
        "colab": {
          "base_uri": "https://localhost:8080/",
          "height": 52
        },
        "id": "s0tDJu-XK71U",
        "outputId": "247123ff-2bf7-4162-d21e-3a2b0ad3c174"
      },
      "source": [
        "generate_text('star', 50, model, max_sequence_len)"
      ],
      "execution_count": 25,
      "outputs": [
        {
          "output_type": "execute_result",
          "data": {
            "application/vnd.google.colaboratory.intrinsic+json": {
              "type": "string"
            },
            "text/plain": [
              "'Star Mordrid Is One Of Those Rare Films That Is Completely Under The Radar But Is Totally Worthwhile It Really Reminds Me Of The Old Serials From The 30S And 40S Which Is Why Id Have Loved To Se Out Of This Movie And It Was A Huge Improvement On The'"
            ]
          },
          "metadata": {
            "tags": []
          },
          "execution_count": 25
        }
      ]
    },
    {
      "cell_type": "code",
      "metadata": {
        "colab": {
          "base_uri": "https://localhost:8080/",
          "height": 35
        },
        "id": "AM5sxeSAK7zR",
        "outputId": "23cf5bd1-d73d-4ee9-ebe4-dd051ba053f2"
      },
      "source": [
        "generate_text('How', 50, model, max_sequence_len)"
      ],
      "execution_count": 26,
      "outputs": [
        {
          "output_type": "execute_result",
          "data": {
            "application/vnd.google.colaboratory.intrinsic+json": {
              "type": "string"
            },
            "text/plain": [
              "'How I Ever Heard About Driving Lessons By The Book And What I Saw It A Lot Of This Movie Made And A Few Horror I Just Could Have Been A Fan Of Bad Movies Ie Me It Was So It Was The First Film That You Have T Seen In'"
            ]
          },
          "metadata": {
            "tags": []
          },
          "execution_count": 26
        }
      ]
    },
    {
      "cell_type": "code",
      "metadata": {
        "colab": {
          "base_uri": "https://localhost:8080/",
          "height": 35
        },
        "id": "lrvtTDsWMVq8",
        "outputId": "f1ac4d05-f575-434d-92f1-4f7af2cfb482"
      },
      "source": [
        "generate_text('Boom', 20, model, max_sequence_len)"
      ],
      "execution_count": 28,
      "outputs": [
        {
          "output_type": "execute_result",
          "data": {
            "application/vnd.google.colaboratory.intrinsic+json": {
              "type": "string"
            },
            "text/plain": [
              "'Boom I Saw This Movie When I Was About 12 When I Just Had A Big Fan Of The Farcry Game'"
            ]
          },
          "metadata": {
            "tags": []
          },
          "execution_count": 28
        }
      ]
    },
    {
      "cell_type": "code",
      "metadata": {
        "colab": {
          "base_uri": "https://localhost:8080/",
          "height": 35
        },
        "id": "F18M_-m-bGU6",
        "outputId": "9e1ed96b-20b5-4952-9422-00181144c91c"
      },
      "source": [
        "generate_text('spider', 20, model, max_sequence_len)"
      ],
      "execution_count": 29,
      "outputs": [
        {
          "output_type": "execute_result",
          "data": {
            "application/vnd.google.colaboratory.intrinsic+json": {
              "type": "string"
            },
            "text/plain": [
              "'Spider Marjoriefarrah Fawcettlives In Fear After Being Accosted By A Lone Biker She Is Mortally Shaken With The Fact Her Attacker'"
            ]
          },
          "metadata": {
            "tags": []
          },
          "execution_count": 29
        }
      ]
    },
    {
      "cell_type": "code",
      "metadata": {
        "colab": {
          "base_uri": "https://localhost:8080/",
          "height": 35
        },
        "id": "Pt2E1gm80Gql",
        "outputId": "9f182519-fda1-46ff-fb38-d06a20b8bf8c"
      },
      "source": [
        "generate_text('good', 20, model, max_sequence_len)"
      ],
      "execution_count": 30,
      "outputs": [
        {
          "output_type": "execute_result",
          "data": {
            "application/vnd.google.colaboratory.intrinsic+json": {
              "type": "string"
            },
            "text/plain": [
              "'Good Lord What Is Not Sure What The Producers Needed To Trade On The Name Of A Somewhat Successful Movie Franchise'"
            ]
          },
          "metadata": {
            "tags": []
          },
          "execution_count": 30
        }
      ]
    },
    {
      "cell_type": "code",
      "metadata": {
        "id": "aTcQCZcR0J8C"
      },
      "source": [
        ""
      ],
      "execution_count": null,
      "outputs": []
    },
    {
      "cell_type": "markdown",
      "metadata": {
        "id": "EkcVF-yO03By"
      },
      "source": [
        ""
      ]
    },
    {
      "cell_type": "markdown",
      "metadata": {
        "id": "UFP11N1I1ErY"
      },
      "source": [
        ""
      ]
    }
  ]
}